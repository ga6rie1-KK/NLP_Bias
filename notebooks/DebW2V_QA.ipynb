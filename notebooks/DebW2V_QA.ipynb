{
 "cells": [
  {
   "cell_type": "markdown",
   "id": "637702c8-cbda-40c0-8bef-9179c902a02d",
   "metadata": {},
   "source": [
    "# モデルを作る"
   ]
  },
  {
   "cell_type": "code",
   "execution_count": 7,
   "id": "e0bf4191-bb3a-426a-b66d-823954cfe63e",
   "metadata": {},
   "outputs": [
    {
     "data": {
      "text/plain": [
       "device(type='cuda')"
      ]
     },
     "execution_count": 7,
     "metadata": {},
     "output_type": "execute_result"
    }
   ],
   "source": [
    "import torch\n",
    "import torch.nn as nn\n",
    "import torch.nn.functional as F\n",
    "device = torch.device('cuda') if torch.cuda.is_available() else torch.device('cpu')\n",
    "device"
   ]
  },
  {
   "cell_type": "code",
   "execution_count": 49,
   "id": "69285b16-357f-4f83-936d-cd74996ab26c",
   "metadata": {},
   "outputs": [
    {
     "data": {
      "text/plain": [
       "torch.Size([3, 5, 30])"
      ]
     },
     "execution_count": 49,
     "metadata": {},
     "output_type": "execute_result"
    }
   ],
   "source": [
    "tmp = torch.randn(3, 5, 30)\n",
    "tmp.shape"
   ]
  },
  {
   "cell_type": "code",
   "execution_count": 50,
   "id": "5a03310c-dbca-4a65-bb84-31aa22a75e8f",
   "metadata": {},
   "outputs": [
    {
     "data": {
      "text/plain": [
       "torch.Size([3, 5, 20])"
      ]
     },
     "execution_count": 50,
     "metadata": {},
     "output_type": "execute_result"
    }
   ],
   "source": [
    "lstm = nn.LSTM(30, 10, num_layers=3, dropout=0.3, bidirectional=True, batch_first=True)\n",
    "tmp, _ = lstm(tmp)\n",
    "tmp.shape"
   ]
  },
  {
   "cell_type": "code",
   "execution_count": 51,
   "id": "d08e7416-5a95-4500-a572-4c250c20e1ef",
   "metadata": {},
   "outputs": [
    {
     "data": {
      "text/plain": [
       "torch.Size([3, 5, 1])"
      ]
     },
     "execution_count": 51,
     "metadata": {},
     "output_type": "execute_result"
    }
   ],
   "source": [
    "ln = nn.Linear(20, 1)\n",
    "tmp = ln(tmp)\n",
    "tmp.shape"
   ]
  },
  {
   "cell_type": "code",
   "execution_count": 52,
   "id": "2d230632-5b3c-480e-9785-82106fb0dcfe",
   "metadata": {},
   "outputs": [
    {
     "data": {
      "text/plain": [
       "tensor([[[-0.2226],\n",
       "         [-0.2422],\n",
       "         [-0.2399],\n",
       "         [-0.2599],\n",
       "         [-0.2430]],\n",
       "\n",
       "        [[-0.2154],\n",
       "         [-0.2285],\n",
       "         [-0.2436],\n",
       "         [-0.2564],\n",
       "         [-0.2567]],\n",
       "\n",
       "        [[-0.2085],\n",
       "         [-0.2232],\n",
       "         [-0.2387],\n",
       "         [-0.2456],\n",
       "         [-0.2527]]], grad_fn=<AddBackward0>)"
      ]
     },
     "execution_count": 52,
     "metadata": {},
     "output_type": "execute_result"
    }
   ],
   "source": [
    "tmp"
   ]
  },
  {
   "cell_type": "code",
   "execution_count": 53,
   "id": "4d1eb27a-3ae3-4219-9d1a-dcc8314c46b8",
   "metadata": {},
   "outputs": [
    {
     "data": {
      "text/plain": [
       "torch.Size([3, 5, 1])"
      ]
     },
     "execution_count": 53,
     "metadata": {},
     "output_type": "execute_result"
    }
   ],
   "source": [
    "tmp = F.softmax(tmp, dim=1)\n",
    "tmp.shape"
   ]
  },
  {
   "cell_type": "code",
   "execution_count": 54,
   "id": "fefd73e1-7dc4-4d04-928e-dbd96193e785",
   "metadata": {},
   "outputs": [
    {
     "data": {
      "text/plain": [
       "tensor([[[0.2038],\n",
       "         [0.1999],\n",
       "         [0.2003],\n",
       "         [0.1963],\n",
       "         [0.1997]],\n",
       "\n",
       "        [[0.2050],\n",
       "         [0.2023],\n",
       "         [0.1993],\n",
       "         [0.1967],\n",
       "         [0.1967]],\n",
       "\n",
       "        [[0.2051],\n",
       "         [0.2021],\n",
       "         [0.1990],\n",
       "         [0.1976],\n",
       "         [0.1962]]], grad_fn=<SoftmaxBackward>)"
      ]
     },
     "execution_count": 54,
     "metadata": {},
     "output_type": "execute_result"
    }
   ],
   "source": [
    "tmp"
   ]
  },
  {
   "cell_type": "code",
   "execution_count": 55,
   "id": "b4bb695e-435c-4a1d-b7c7-aa1e2e3253ca",
   "metadata": {},
   "outputs": [
    {
     "data": {
      "text/plain": [
       "tensor([[1.],\n",
       "        [1.],\n",
       "        [1.]], grad_fn=<SumBackward1>)"
      ]
     },
     "execution_count": 55,
     "metadata": {},
     "output_type": "execute_result"
    }
   ],
   "source": [
    "tmp.sum(dim=1)"
   ]
  },
  {
   "cell_type": "code",
   "execution_count": 48,
   "id": "aae8b517-086f-474f-bdf8-89b830d972e7",
   "metadata": {},
   "outputs": [
    {
     "name": "stdout",
     "output_type": "stream",
     "text": [
      "torch.Size([3, 10, 5])\n"
     ]
    }
   ],
   "source": [
    "from torch.utils.data import Dataset, DataLoader\n",
    "class MyDataset(Dataset):\n",
    "    def __init__(self):\n",
    "        self.X = torch.randn(15, 10, 5)\n",
    "        self.y = torch.randn(10)\n",
    "        self.num_data = 10\n",
    "\n",
    "    def __len__(self):\n",
    "        return self.num_data\n",
    "\n",
    "    def __getitem__(self, i):\n",
    "        x = self.X[i]\n",
    "        y = self.y[i]\n",
    "        return x, y\n",
    "dataset = MyDataset()\n",
    "dataloader = DataLoader(dataset, batch_size=3)\n",
    "for data in dataloader:\n",
    "    print(data[0].shape)\n",
    "    break"
   ]
  },
  {
   "cell_type": "code",
   "execution_count": 61,
   "id": "51f498ca-5e89-4346-ab10-b336a0c4bef6",
   "metadata": {},
   "outputs": [
    {
     "data": {
      "text/plain": [
       "tensor([[ 10,  20,  30],\n",
       "        [400, 500, 600]])"
      ]
     },
     "execution_count": 61,
     "metadata": {},
     "output_type": "execute_result"
    }
   ],
   "source": [
    "p = torch.tensor([[1,2,3],[4,5,6]])\n",
    "b = torch.tensor([[10],[100]])\n",
    "p*b"
   ]
  },
  {
   "cell_type": "code",
   "execution_count": 66,
   "id": "ca00b43b-b480-43f6-91ec-ca58e5bf8d6f",
   "metadata": {},
   "outputs": [
    {
     "data": {
      "text/plain": [
       "tensor([[-0.3270],\n",
       "        [ 1.1937],\n",
       "        [ 1.2751],\n",
       "        [ 2.1794],\n",
       "        [-0.5897]], grad_fn=<AddBackward0>)"
      ]
     },
     "execution_count": 66,
     "metadata": {},
     "output_type": "execute_result"
    }
   ],
   "source": [
    "biln = nn.Bilinear(10, 10, 1)\n",
    "a = torch.randn(5, 10)\n",
    "b = torch.randn(5, 10)\n",
    "biln(a, b)"
   ]
  },
  {
   "cell_type": "code",
   "execution_count": 67,
   "id": "fefec43a-b860-4da3-9f4d-dc0cda021d1d",
   "metadata": {},
   "outputs": [
    {
     "data": {
      "text/plain": [
       "torch.Size([3])"
      ]
     },
     "execution_count": 67,
     "metadata": {},
     "output_type": "execute_result"
    }
   ],
   "source": [
    "tmp = torch.randn(3,3)\n",
    "tmp.sum(dim=0).shape"
   ]
  },
  {
   "cell_type": "code",
   "execution_count": 69,
   "id": "141a46ed-49df-4bce-a822-cbe56e174e22",
   "metadata": {},
   "outputs": [
    {
     "data": {
      "text/plain": [
       "tensor([-1.8941,  2.6537])"
      ]
     },
     "execution_count": 69,
     "metadata": {},
     "output_type": "execute_result"
    }
   ],
   "source": [
    "a = torch.randn(2,5)\n",
    "b = torch.randn(5)\n",
    "a@b"
   ]
  },
  {
   "cell_type": "code",
   "execution_count": 96,
   "id": "3cfe2795-d6ee-402c-9565-3c9421d2413a",
   "metadata": {},
   "outputs": [],
   "source": [
    "import torch\n",
    "import torch.nn as nn\n",
    "import torch.nn.functional as F\n",
    "\n",
    "class DocReader(nn.Module):\n",
    "    def __init__(self, input_dim, hidden_dim, num_layer, dropout):\n",
    "        super(DocReader, self).__init__()\n",
    "        self.P_Enc = nn.LSTM(\n",
    "            input_dim, hidden_dim, num_layers=num_layer,\n",
    "            dropout=dropout, bidirectional=True,\n",
    "            batch_first=True\n",
    "        )\n",
    "        self.Q_Enc = nn.LSTM(\n",
    "            input_dim, hidden_dim, num_layers=num_layer,\n",
    "            dropout=dropout, bidirectional=True,\n",
    "            batch_first=True\n",
    "        )\n",
    "        self.Q_AccumWeight = nn.Linear(hidden_dim*2, 1, bias=False)\n",
    "        self.Start_Pred = nn.Linear(hidden_dim*2, hidden_dim*2, bias=False)\n",
    "        self.End_Pred = nn.Linear(hidden_dim*2, hidden_dim*2, bias=False)\n",
    "\n",
    "    def forward(self, p, q):\n",
    "        p, _ = self.P_Enc(p)\n",
    "        q, _ = self.Q_Enc(q)\n",
    "        b = F.softmax(self.Q_AccumWeight(q), dim=1)\n",
    "        q = (q*b).sum(dim=1)\n",
    "        start_proba = F.softmax(torch.einsum('bnm,bm->bn', self.Start_Pred(p), q), dim=1)\n",
    "        end_proba = F.softmax(torch.einsum('bnm,bm->bn', self.End_Pred(p), q), dim=1)\n",
    "        return start_proba, end_proba"
   ]
  },
  {
   "cell_type": "code",
   "execution_count": 97,
   "id": "ddca0da0-e268-45f5-9169-79d0f060dc12",
   "metadata": {},
   "outputs": [],
   "source": [
    "model = DocReader(300, 128, 3, 0.3)"
   ]
  },
  {
   "cell_type": "code",
   "execution_count": 98,
   "id": "e381c78e-be57-449e-8368-d876607ecfb7",
   "metadata": {},
   "outputs": [],
   "source": [
    "from torch.utils.data import Dataset, DataLoader\n",
    "class MyDataset(Dataset):\n",
    "    def __init__(self):\n",
    "        self.P = torch.randn(15, 10, 300)\n",
    "        self.Q = torch.randn(15, 5, 300)\n",
    "        self.num_data = 15\n",
    "\n",
    "    def __len__(self):\n",
    "        return self.num_data\n",
    "\n",
    "    def __getitem__(self, i):\n",
    "        p = self.P[i]\n",
    "        q = self.Q[i]\n",
    "        return p, q\n",
    "dataset = MyDataset()\n",
    "dataloader = DataLoader(dataset, batch_size=3)"
   ]
  },
  {
   "cell_type": "code",
   "execution_count": 99,
   "id": "1e895d58-356b-465e-9013-a574528a5ff1",
   "metadata": {},
   "outputs": [
    {
     "name": "stdout",
     "output_type": "stream",
     "text": [
      "torch.Size([3, 5, 1])\n",
      "tensor([[0.5970],\n",
      "        [0.6031],\n",
      "        [0.6011],\n",
      "        [0.6004],\n",
      "        [0.5984]], grad_fn=<SumBackward1>)\n",
      "tensor([[1.0000],\n",
      "        [1.0000],\n",
      "        [1.0000]], grad_fn=<SumBackward1>)\n",
      "tensor([[0.1992, 0.2006, 0.2002, 0.2008, 0.1992],\n",
      "        [0.2000, 0.2008, 0.2005, 0.1996, 0.1992],\n",
      "        [0.1978, 0.2017, 0.2004, 0.2001, 0.2000]], grad_fn=<SumBackward1>)\n",
      "\n",
      "\n",
      "torch.Size([3, 10])\n",
      "tensor([0.3015, 0.3007, 0.3003, 0.3015, 0.3001, 0.2997, 0.3000, 0.3002, 0.2982,\n",
      "        0.2978], grad_fn=<SumBackward1>)\n",
      "tensor([1.0000, 1.0000, 1.0000], grad_fn=<SumBackward1>)\n"
     ]
    }
   ],
   "source": [
    "for p, q in dataloader:\n",
    "    a,b = model(p, q)\n",
    "    break"
   ]
  },
  {
   "cell_type": "code",
   "execution_count": 91,
   "id": "17d3da24-2b02-487e-8de3-daa24605bf60",
   "metadata": {},
   "outputs": [
    {
     "data": {
      "text/plain": [
       "tensor([[5, 7, 9]])"
      ]
     },
     "execution_count": 91,
     "metadata": {},
     "output_type": "execute_result"
    }
   ],
   "source": [
    "tmp = torch.tensor([[1,2,3],[4,5,6]])\n",
    "tmp.sum(dim=0, keepdim=True)"
   ]
  },
  {
   "cell_type": "code",
   "execution_count": 60,
   "id": "79713102-206d-4f10-bd79-7f64d74fa1b3",
   "metadata": {},
   "outputs": [
    {
     "ename": "RuntimeError",
     "evalue": "mat2 must be a matrix",
     "output_type": "error",
     "traceback": [
      "\u001b[1;31m---------------------------------------------------------------------------\u001b[0m",
      "\u001b[1;31mRuntimeError\u001b[0m                              Traceback (most recent call last)",
      "\u001b[1;32m<ipython-input-60-c1692885bfd1>\u001b[0m in \u001b[0;36m<module>\u001b[1;34m\u001b[0m\n\u001b[0;32m      1\u001b[0m \u001b[0ma\u001b[0m \u001b[1;33m=\u001b[0m \u001b[0mtorch\u001b[0m\u001b[1;33m.\u001b[0m\u001b[0mrandn\u001b[0m\u001b[1;33m(\u001b[0m\u001b[1;36m2\u001b[0m\u001b[1;33m,\u001b[0m\u001b[1;36m3\u001b[0m\u001b[1;33m)\u001b[0m\u001b[1;33m\u001b[0m\u001b[1;33m\u001b[0m\u001b[0m\n\u001b[0;32m      2\u001b[0m \u001b[0mb\u001b[0m \u001b[1;33m=\u001b[0m \u001b[0mtorch\u001b[0m\u001b[1;33m.\u001b[0m\u001b[0mrandn\u001b[0m\u001b[1;33m(\u001b[0m\u001b[1;36m3\u001b[0m\u001b[1;33m)\u001b[0m\u001b[1;33m\u001b[0m\u001b[1;33m\u001b[0m\u001b[0m\n\u001b[1;32m----> 3\u001b[1;33m \u001b[0mtorch\u001b[0m\u001b[1;33m.\u001b[0m\u001b[0mmm\u001b[0m\u001b[1;33m(\u001b[0m\u001b[0ma\u001b[0m\u001b[1;33m,\u001b[0m \u001b[0mb\u001b[0m\u001b[1;33m)\u001b[0m\u001b[1;33m\u001b[0m\u001b[1;33m\u001b[0m\u001b[0m\n\u001b[0m",
      "\u001b[1;31mRuntimeError\u001b[0m: mat2 must be a matrix"
     ]
    }
   ],
   "source": [
    "a = torch.randn(2,3)\n",
    "b = torch.randn(3)\n",
    "torch.mm(a, b)"
   ]
  },
  {
   "cell_type": "markdown",
   "id": "dccbdd2b-0c82-4c06-9e71-c523e0761559",
   "metadata": {},
   "source": [
    "# データの準備"
   ]
  },
  {
   "cell_type": "code",
   "execution_count": 26,
   "id": "afdd3f08-1a9e-4fda-9971-4e93e2fc3470",
   "metadata": {},
   "outputs": [],
   "source": [
    "import torch\n",
    "from torch.utils.data import Dataset, DataLoader\n",
    "from nltk.tokenize import word_tokenize\n",
    "import gensim\n",
    "import json\n",
    "torch.manual_seed(0)\n",
    "w2v_dim = 300\n",
    "w2v_undebiased = gensim.models.KeyedVectors.load_word2vec_format('./GoogleNews-vectors-negative300.bin', binary=True)\n",
    "with open('data/squad1.1/train-v1.1.json', encoding='utf-8') as f:\n",
    "    train_dict = json.load(f)\n",
    "with open('data/squad1.1/dev-v1.1.json', encoding='utf-8') as f:\n",
    "    test_dict = json.load(f)"
   ]
  },
  {
   "cell_type": "code",
   "execution_count": 73,
   "id": "ef3c22ab-83ad-4773-904c-4dda21c6046c",
   "metadata": {},
   "outputs": [],
   "source": [
    "max_words_context = 0\n",
    "max_words_question = 0\n",
    "train_idxs = []\n",
    "for i, title in enumerate(train_dict['data']):\n",
    "    for j, paragraph in enumerate(title['paragraphs']):\n",
    "        num_words_context = len(word_tokenize(paragraph['context'].lower()))\n",
    "        if num_words_context > max_words_context:\n",
    "            max_words_context = num_words_context\n",
    "        for k, qa in enumerate(paragraph['qas']):\n",
    "            train_idxs.append(str(i)+'-'+str(j)+'-'+str(k))\n",
    "            num_words_question = len(word_tokenize(qa['question'].lower()))\n",
    "            if num_words_question > max_words_question:\n",
    "                max_words_question = num_words_question\n",
    "test_idxs = []\n",
    "for i, title in enumerate(test_dict['data']):\n",
    "    for j, paragraph in enumerate(title['paragraphs']):\n",
    "        num_words_context = len(word_tokenize(paragraph['context'].lower()))\n",
    "        if num_words_context > max_words_context:\n",
    "            max_words_context = num_words_context\n",
    "        for k, qa in enumerate(paragraph['qas']):\n",
    "            test_idxs.append(str(i)+'-'+str(j)+'-'+str(k))\n",
    "            num_words_question = len(word_tokenize(qa['question'].lower()))\n",
    "            if num_words_question > max_words_question:\n",
    "                max_words_question = num_words_question"
   ]
  },
  {
   "cell_type": "code",
   "execution_count": 74,
   "id": "74825cfc-a669-40df-b42b-c3e8be733e7a",
   "metadata": {},
   "outputs": [
    {
     "name": "stdout",
     "output_type": "stream",
     "text": [
      "766\n",
      "60\n"
     ]
    }
   ],
   "source": [
    "print(max_words_context)\n",
    "print(max_words_question)"
   ]
  },
  {
   "cell_type": "code",
   "execution_count": 80,
   "id": "37facfdb-cfeb-433b-85a1-a17610341645",
   "metadata": {},
   "outputs": [],
   "source": [
    "class MyDataset(Dataset):\n",
    "    def __init__(self,\n",
    "                 data_dict, index_lst,\n",
    "                 max_words_context, max_words_question, w2v_dim,\n",
    "                 w2v_model,\n",
    "                 isTrain):\n",
    "        self.data_dict = data_dict\n",
    "        self.index_lst = index_lst\n",
    "        self.num_data = len(index_lst)\n",
    "        self.max_words_context = max_words_context\n",
    "        self.max_words_question = max_words_question\n",
    "        self.w2v_dim = w2v_dim\n",
    "        self.w2v_model = w2v_model\n",
    "        self.isTrain = isTrain\n",
    "\n",
    "    def __len__(self):\n",
    "        return self.num_data\n",
    "\n",
    "    def __getitem__(self, i):\n",
    "        idx = list(map(lambda x: int(x), self.index_lst[i].split('-')))\n",
    "        context = self.data_dict['data'][idx[0]]['paragraphs'][idx[1]]['context']\n",
    "        context = word_tokenize(context.lower())\n",
    "        context_emb = torch.zeros(self.max_words_context, self.w2v_dim)\n",
    "        for i, word in enumerate(context):\n",
    "            if word in self.w2v_model.key_to_index:\n",
    "                context_emb[i] += self.w2v_model[word]\n",
    "        question = self.data_dict['data'][idx[0]]['paragraphs'][idx[1]]['qas'][idx[2]]['question']\n",
    "        question = word_tokenize(question.lower())\n",
    "        question_emb = torch.zeros(self.max_words_question, self.w2v_dim)\n",
    "        for i, word in enumerate(question):\n",
    "            if word in self.w2v_model.key_to_index:\n",
    "                question_emb[i] += self.w2v_model[word]\n",
    "        answers = self.data_dict['data'][idx[0]]['paragraphs'][idx[1]]['qas'][idx[2]]['answers']\n",
    "        if self.isTrain:\n",
    "            answer = answers[0]\n",
    "            context = self.data_dict['data'][idx[0]]['paragraphs'][idx[1]]['context']\n",
    "            context = context[:answer['answer_start']] + ' start_point ' + context[answer['answer_start']:]\n",
    "            context = word_tokenize(context.lower())\n",
    "            start_idx = context.index('start_point')\n",
    "            end_idx = start_idx + len(word_tokenize(answer['text'])) - 1\n",
    "        else:\n",
    "            start_idx = []\n",
    "            end_idx = []\n",
    "            context = self.data_dict['data'][idx[0]]['paragraphs'][idx[1]]['context']\n",
    "            for answer in answers:\n",
    "                context_ = context[:answer['answer_start']] + ' start_point ' + context[answer['answer_start']:]\n",
    "                context_ = word_tokenize(context_.lower())\n",
    "                start_idx.append(context_.index('start_point'))\n",
    "                end_idx.append(start_idx[-1] + len(word_tokenize(answer['text'])) - 1)\n",
    "        return context_emb, question_emb, start_idx, end_idx\n",
    "\n",
    "train_set = MyDataset(train_dict, train_idxs, max_words_context, max_words_question, w2v_dim, w2v_undebiased, True)\n",
    "train_loader = DataLoader(train_set, batch_size=1, shuffle=True)\n",
    "test_set = MyDataset(test_dict, test_idxs, max_words_context, max_words_question, w2v_dim, w2v_undebiased, False)\n",
    "test_loader = DataLoader(test_set, batch_size=len(test_set))"
   ]
  },
  {
   "cell_type": "code",
   "execution_count": 76,
   "id": "199be58c-4f07-4476-ba4f-93d04bd0b85f",
   "metadata": {},
   "outputs": [
    {
     "name": "stdout",
     "output_type": "stream",
     "text": [
      "The Panthers finished the regular season with a 15–1 record, and quarterback Cam Newton was named the NFL Most Valuable Player (MVP). They defeated the Arizona Cardinals 49–15 in the NFC Championship Game and advanced to their second Super Bowl appearance since the franchise was founded in 1995. The Broncos finished the regular season with a 12–4 record, and denied the New England Patriots a chance to defend their title from Super Bowl XLIX by defeating them 20–18 in the AFC Championship Game. They joined the Patriots, Dallas Cowboys, and Pittsburgh Steelers as one of four teams that have made eight appearances in the Super Bowl.\n",
      "How many appearances have the Denver Broncos made in the Super Bowl?\n",
      "[{'answer_start': 467, 'text': '8'}, {'answer_start': 601, 'text': 'eight'}, {'answer_start': 601, 'text': 'eight'}]\n"
     ]
    }
   ],
   "source": [
    "print(test_dict['data'][0]['paragraphs'][1]['context'])\n",
    "print(test_dict['data'][0]['paragraphs'][1]['qas'][1]['question'])\n",
    "print(test_dict['data'][0]['paragraphs'][1]['qas'][1]['answers'])"
   ]
  },
  {
   "cell_type": "code",
   "execution_count": 82,
   "id": "3fdbf73f-254c-409c-9490-ee9382883d8a",
   "metadata": {},
   "outputs": [
    {
     "data": {
      "text/plain": [
       "['This', 'is', 'a', 'pen', '.']"
      ]
     },
     "execution_count": 82,
     "metadata": {},
     "output_type": "execute_result"
    }
   ],
   "source": [
    "word_tokenize('This  is a pen.')"
   ]
  },
  {
   "cell_type": "code",
   "execution_count": 81,
   "id": "2c9456f9-72d9-49eb-883d-cfb5c1d6efa8",
   "metadata": {},
   "outputs": [
    {
     "ename": "RuntimeError",
     "evalue": "each element in list of batch should be of equal size",
     "output_type": "error",
     "traceback": [
      "\u001b[1;31m---------------------------------------------------------------------------\u001b[0m",
      "\u001b[1;31mRuntimeError\u001b[0m                              Traceback (most recent call last)",
      "\u001b[1;32m<ipython-input-81-646a9707915d>\u001b[0m in \u001b[0;36m<module>\u001b[1;34m\u001b[0m\n\u001b[1;32m----> 1\u001b[1;33m \u001b[1;32mfor\u001b[0m \u001b[0mXc\u001b[0m\u001b[1;33m,\u001b[0m \u001b[0mXq\u001b[0m\u001b[1;33m,\u001b[0m \u001b[0mys\u001b[0m\u001b[1;33m,\u001b[0m \u001b[0mye\u001b[0m \u001b[1;32min\u001b[0m \u001b[0mtest_loader\u001b[0m\u001b[1;33m:\u001b[0m\u001b[1;33m\u001b[0m\u001b[1;33m\u001b[0m\u001b[0m\n\u001b[0m\u001b[0;32m      2\u001b[0m     \u001b[0mprint\u001b[0m\u001b[1;33m(\u001b[0m\u001b[0mXc\u001b[0m\u001b[1;33m.\u001b[0m\u001b[0mshape\u001b[0m\u001b[1;33m)\u001b[0m\u001b[1;33m\u001b[0m\u001b[1;33m\u001b[0m\u001b[0m\n\u001b[0;32m      3\u001b[0m     \u001b[0mprint\u001b[0m\u001b[1;33m(\u001b[0m\u001b[0mXq\u001b[0m\u001b[1;33m.\u001b[0m\u001b[0mshape\u001b[0m\u001b[1;33m)\u001b[0m\u001b[1;33m\u001b[0m\u001b[1;33m\u001b[0m\u001b[0m\n\u001b[0;32m      4\u001b[0m     \u001b[0mprint\u001b[0m\u001b[1;33m(\u001b[0m\u001b[0mys\u001b[0m\u001b[1;33m)\u001b[0m\u001b[1;33m\u001b[0m\u001b[1;33m\u001b[0m\u001b[0m\n\u001b[0;32m      5\u001b[0m     \u001b[0mprint\u001b[0m\u001b[1;33m(\u001b[0m\u001b[0mye\u001b[0m\u001b[1;33m)\u001b[0m\u001b[1;33m\u001b[0m\u001b[1;33m\u001b[0m\u001b[0m\n",
      "\u001b[1;32m~\\anaconda3\\envs\\torch\\lib\\site-packages\\torch\\utils\\data\\dataloader.py\u001b[0m in \u001b[0;36m__next__\u001b[1;34m(self)\u001b[0m\n\u001b[0;32m    515\u001b[0m             \u001b[1;32mif\u001b[0m \u001b[0mself\u001b[0m\u001b[1;33m.\u001b[0m\u001b[0m_sampler_iter\u001b[0m \u001b[1;32mis\u001b[0m \u001b[1;32mNone\u001b[0m\u001b[1;33m:\u001b[0m\u001b[1;33m\u001b[0m\u001b[1;33m\u001b[0m\u001b[0m\n\u001b[0;32m    516\u001b[0m                 \u001b[0mself\u001b[0m\u001b[1;33m.\u001b[0m\u001b[0m_reset\u001b[0m\u001b[1;33m(\u001b[0m\u001b[1;33m)\u001b[0m\u001b[1;33m\u001b[0m\u001b[1;33m\u001b[0m\u001b[0m\n\u001b[1;32m--> 517\u001b[1;33m             \u001b[0mdata\u001b[0m \u001b[1;33m=\u001b[0m \u001b[0mself\u001b[0m\u001b[1;33m.\u001b[0m\u001b[0m_next_data\u001b[0m\u001b[1;33m(\u001b[0m\u001b[1;33m)\u001b[0m\u001b[1;33m\u001b[0m\u001b[1;33m\u001b[0m\u001b[0m\n\u001b[0m\u001b[0;32m    518\u001b[0m             \u001b[0mself\u001b[0m\u001b[1;33m.\u001b[0m\u001b[0m_num_yielded\u001b[0m \u001b[1;33m+=\u001b[0m \u001b[1;36m1\u001b[0m\u001b[1;33m\u001b[0m\u001b[1;33m\u001b[0m\u001b[0m\n\u001b[0;32m    519\u001b[0m             \u001b[1;32mif\u001b[0m \u001b[0mself\u001b[0m\u001b[1;33m.\u001b[0m\u001b[0m_dataset_kind\u001b[0m \u001b[1;33m==\u001b[0m \u001b[0m_DatasetKind\u001b[0m\u001b[1;33m.\u001b[0m\u001b[0mIterable\u001b[0m \u001b[1;32mand\u001b[0m\u001b[0;31m \u001b[0m\u001b[0;31m\\\u001b[0m\u001b[1;33m\u001b[0m\u001b[1;33m\u001b[0m\u001b[0m\n",
      "\u001b[1;32m~\\anaconda3\\envs\\torch\\lib\\site-packages\\torch\\utils\\data\\dataloader.py\u001b[0m in \u001b[0;36m_next_data\u001b[1;34m(self)\u001b[0m\n\u001b[0;32m    555\u001b[0m     \u001b[1;32mdef\u001b[0m \u001b[0m_next_data\u001b[0m\u001b[1;33m(\u001b[0m\u001b[0mself\u001b[0m\u001b[1;33m)\u001b[0m\u001b[1;33m:\u001b[0m\u001b[1;33m\u001b[0m\u001b[1;33m\u001b[0m\u001b[0m\n\u001b[0;32m    556\u001b[0m         \u001b[0mindex\u001b[0m \u001b[1;33m=\u001b[0m \u001b[0mself\u001b[0m\u001b[1;33m.\u001b[0m\u001b[0m_next_index\u001b[0m\u001b[1;33m(\u001b[0m\u001b[1;33m)\u001b[0m  \u001b[1;31m# may raise StopIteration\u001b[0m\u001b[1;33m\u001b[0m\u001b[1;33m\u001b[0m\u001b[0m\n\u001b[1;32m--> 557\u001b[1;33m         \u001b[0mdata\u001b[0m \u001b[1;33m=\u001b[0m \u001b[0mself\u001b[0m\u001b[1;33m.\u001b[0m\u001b[0m_dataset_fetcher\u001b[0m\u001b[1;33m.\u001b[0m\u001b[0mfetch\u001b[0m\u001b[1;33m(\u001b[0m\u001b[0mindex\u001b[0m\u001b[1;33m)\u001b[0m  \u001b[1;31m# may raise StopIteration\u001b[0m\u001b[1;33m\u001b[0m\u001b[1;33m\u001b[0m\u001b[0m\n\u001b[0m\u001b[0;32m    558\u001b[0m         \u001b[1;32mif\u001b[0m \u001b[0mself\u001b[0m\u001b[1;33m.\u001b[0m\u001b[0m_pin_memory\u001b[0m\u001b[1;33m:\u001b[0m\u001b[1;33m\u001b[0m\u001b[1;33m\u001b[0m\u001b[0m\n\u001b[0;32m    559\u001b[0m             \u001b[0mdata\u001b[0m \u001b[1;33m=\u001b[0m \u001b[0m_utils\u001b[0m\u001b[1;33m.\u001b[0m\u001b[0mpin_memory\u001b[0m\u001b[1;33m.\u001b[0m\u001b[0mpin_memory\u001b[0m\u001b[1;33m(\u001b[0m\u001b[0mdata\u001b[0m\u001b[1;33m)\u001b[0m\u001b[1;33m\u001b[0m\u001b[1;33m\u001b[0m\u001b[0m\n",
      "\u001b[1;32m~\\anaconda3\\envs\\torch\\lib\\site-packages\\torch\\utils\\data\\_utils\\fetch.py\u001b[0m in \u001b[0;36mfetch\u001b[1;34m(self, possibly_batched_index)\u001b[0m\n\u001b[0;32m     45\u001b[0m         \u001b[1;32melse\u001b[0m\u001b[1;33m:\u001b[0m\u001b[1;33m\u001b[0m\u001b[1;33m\u001b[0m\u001b[0m\n\u001b[0;32m     46\u001b[0m             \u001b[0mdata\u001b[0m \u001b[1;33m=\u001b[0m \u001b[0mself\u001b[0m\u001b[1;33m.\u001b[0m\u001b[0mdataset\u001b[0m\u001b[1;33m[\u001b[0m\u001b[0mpossibly_batched_index\u001b[0m\u001b[1;33m]\u001b[0m\u001b[1;33m\u001b[0m\u001b[1;33m\u001b[0m\u001b[0m\n\u001b[1;32m---> 47\u001b[1;33m         \u001b[1;32mreturn\u001b[0m \u001b[0mself\u001b[0m\u001b[1;33m.\u001b[0m\u001b[0mcollate_fn\u001b[0m\u001b[1;33m(\u001b[0m\u001b[0mdata\u001b[0m\u001b[1;33m)\u001b[0m\u001b[1;33m\u001b[0m\u001b[1;33m\u001b[0m\u001b[0m\n\u001b[0m",
      "\u001b[1;32m~\\anaconda3\\envs\\torch\\lib\\site-packages\\torch\\utils\\data\\_utils\\collate.py\u001b[0m in \u001b[0;36mdefault_collate\u001b[1;34m(batch)\u001b[0m\n\u001b[0;32m     81\u001b[0m             \u001b[1;32mraise\u001b[0m \u001b[0mRuntimeError\u001b[0m\u001b[1;33m(\u001b[0m\u001b[1;34m'each element in list of batch should be of equal size'\u001b[0m\u001b[1;33m)\u001b[0m\u001b[1;33m\u001b[0m\u001b[1;33m\u001b[0m\u001b[0m\n\u001b[0;32m     82\u001b[0m         \u001b[0mtransposed\u001b[0m \u001b[1;33m=\u001b[0m \u001b[0mzip\u001b[0m\u001b[1;33m(\u001b[0m\u001b[1;33m*\u001b[0m\u001b[0mbatch\u001b[0m\u001b[1;33m)\u001b[0m\u001b[1;33m\u001b[0m\u001b[1;33m\u001b[0m\u001b[0m\n\u001b[1;32m---> 83\u001b[1;33m         \u001b[1;32mreturn\u001b[0m \u001b[1;33m[\u001b[0m\u001b[0mdefault_collate\u001b[0m\u001b[1;33m(\u001b[0m\u001b[0msamples\u001b[0m\u001b[1;33m)\u001b[0m \u001b[1;32mfor\u001b[0m \u001b[0msamples\u001b[0m \u001b[1;32min\u001b[0m \u001b[0mtransposed\u001b[0m\u001b[1;33m]\u001b[0m\u001b[1;33m\u001b[0m\u001b[1;33m\u001b[0m\u001b[0m\n\u001b[0m\u001b[0;32m     84\u001b[0m \u001b[1;33m\u001b[0m\u001b[0m\n\u001b[0;32m     85\u001b[0m     \u001b[1;32mraise\u001b[0m \u001b[0mTypeError\u001b[0m\u001b[1;33m(\u001b[0m\u001b[0mdefault_collate_err_msg_format\u001b[0m\u001b[1;33m.\u001b[0m\u001b[0mformat\u001b[0m\u001b[1;33m(\u001b[0m\u001b[0melem_type\u001b[0m\u001b[1;33m)\u001b[0m\u001b[1;33m)\u001b[0m\u001b[1;33m\u001b[0m\u001b[1;33m\u001b[0m\u001b[0m\n",
      "\u001b[1;32m~\\anaconda3\\envs\\torch\\lib\\site-packages\\torch\\utils\\data\\_utils\\collate.py\u001b[0m in \u001b[0;36m<listcomp>\u001b[1;34m(.0)\u001b[0m\n\u001b[0;32m     81\u001b[0m             \u001b[1;32mraise\u001b[0m \u001b[0mRuntimeError\u001b[0m\u001b[1;33m(\u001b[0m\u001b[1;34m'each element in list of batch should be of equal size'\u001b[0m\u001b[1;33m)\u001b[0m\u001b[1;33m\u001b[0m\u001b[1;33m\u001b[0m\u001b[0m\n\u001b[0;32m     82\u001b[0m         \u001b[0mtransposed\u001b[0m \u001b[1;33m=\u001b[0m \u001b[0mzip\u001b[0m\u001b[1;33m(\u001b[0m\u001b[1;33m*\u001b[0m\u001b[0mbatch\u001b[0m\u001b[1;33m)\u001b[0m\u001b[1;33m\u001b[0m\u001b[1;33m\u001b[0m\u001b[0m\n\u001b[1;32m---> 83\u001b[1;33m         \u001b[1;32mreturn\u001b[0m \u001b[1;33m[\u001b[0m\u001b[0mdefault_collate\u001b[0m\u001b[1;33m(\u001b[0m\u001b[0msamples\u001b[0m\u001b[1;33m)\u001b[0m \u001b[1;32mfor\u001b[0m \u001b[0msamples\u001b[0m \u001b[1;32min\u001b[0m \u001b[0mtransposed\u001b[0m\u001b[1;33m]\u001b[0m\u001b[1;33m\u001b[0m\u001b[1;33m\u001b[0m\u001b[0m\n\u001b[0m\u001b[0;32m     84\u001b[0m \u001b[1;33m\u001b[0m\u001b[0m\n\u001b[0;32m     85\u001b[0m     \u001b[1;32mraise\u001b[0m \u001b[0mTypeError\u001b[0m\u001b[1;33m(\u001b[0m\u001b[0mdefault_collate_err_msg_format\u001b[0m\u001b[1;33m.\u001b[0m\u001b[0mformat\u001b[0m\u001b[1;33m(\u001b[0m\u001b[0melem_type\u001b[0m\u001b[1;33m)\u001b[0m\u001b[1;33m)\u001b[0m\u001b[1;33m\u001b[0m\u001b[1;33m\u001b[0m\u001b[0m\n",
      "\u001b[1;32m~\\anaconda3\\envs\\torch\\lib\\site-packages\\torch\\utils\\data\\_utils\\collate.py\u001b[0m in \u001b[0;36mdefault_collate\u001b[1;34m(batch)\u001b[0m\n\u001b[0;32m     79\u001b[0m         \u001b[0melem_size\u001b[0m \u001b[1;33m=\u001b[0m \u001b[0mlen\u001b[0m\u001b[1;33m(\u001b[0m\u001b[0mnext\u001b[0m\u001b[1;33m(\u001b[0m\u001b[0mit\u001b[0m\u001b[1;33m)\u001b[0m\u001b[1;33m)\u001b[0m\u001b[1;33m\u001b[0m\u001b[1;33m\u001b[0m\u001b[0m\n\u001b[0;32m     80\u001b[0m         \u001b[1;32mif\u001b[0m \u001b[1;32mnot\u001b[0m \u001b[0mall\u001b[0m\u001b[1;33m(\u001b[0m\u001b[0mlen\u001b[0m\u001b[1;33m(\u001b[0m\u001b[0melem\u001b[0m\u001b[1;33m)\u001b[0m \u001b[1;33m==\u001b[0m \u001b[0melem_size\u001b[0m \u001b[1;32mfor\u001b[0m \u001b[0melem\u001b[0m \u001b[1;32min\u001b[0m \u001b[0mit\u001b[0m\u001b[1;33m)\u001b[0m\u001b[1;33m:\u001b[0m\u001b[1;33m\u001b[0m\u001b[1;33m\u001b[0m\u001b[0m\n\u001b[1;32m---> 81\u001b[1;33m             \u001b[1;32mraise\u001b[0m \u001b[0mRuntimeError\u001b[0m\u001b[1;33m(\u001b[0m\u001b[1;34m'each element in list of batch should be of equal size'\u001b[0m\u001b[1;33m)\u001b[0m\u001b[1;33m\u001b[0m\u001b[1;33m\u001b[0m\u001b[0m\n\u001b[0m\u001b[0;32m     82\u001b[0m         \u001b[0mtransposed\u001b[0m \u001b[1;33m=\u001b[0m \u001b[0mzip\u001b[0m\u001b[1;33m(\u001b[0m\u001b[1;33m*\u001b[0m\u001b[0mbatch\u001b[0m\u001b[1;33m)\u001b[0m\u001b[1;33m\u001b[0m\u001b[1;33m\u001b[0m\u001b[0m\n\u001b[0;32m     83\u001b[0m         \u001b[1;32mreturn\u001b[0m \u001b[1;33m[\u001b[0m\u001b[0mdefault_collate\u001b[0m\u001b[1;33m(\u001b[0m\u001b[0msamples\u001b[0m\u001b[1;33m)\u001b[0m \u001b[1;32mfor\u001b[0m \u001b[0msamples\u001b[0m \u001b[1;32min\u001b[0m \u001b[0mtransposed\u001b[0m\u001b[1;33m]\u001b[0m\u001b[1;33m\u001b[0m\u001b[1;33m\u001b[0m\u001b[0m\n",
      "\u001b[1;31mRuntimeError\u001b[0m: each element in list of batch should be of equal size"
     ]
    }
   ],
   "source": [
    "for Xc, Xq, ys, ye in test_loader:\n",
    "    print(Xc.shape)\n",
    "    print(Xq.shape)\n",
    "    print(ys)\n",
    "    print(ye)\n",
    "    break"
   ]
  },
  {
   "cell_type": "code",
   "execution_count": 15,
   "id": "37c0854f-33f2-45fa-af26-debf2ed44c47",
   "metadata": {
    "collapsed": true,
    "jupyter": {
     "outputs_hidden": true
    },
    "tags": []
   },
   "outputs": [
    {
     "name": "stdout",
     "output_type": "stream",
     "text": [
      "dict_keys(['data', 'version'])\n",
      "<class 'list'> 442\n",
      "dict_keys(['title', 'paragraphs'])\n",
      "<class 'list'> 55\n",
      "dict_keys(['context', 'qas'])\n",
      "<class 'list'> 5\n",
      "dict_keys(['answers', 'question', 'id'])\n",
      "{'answers': [{'answer_start': 515, 'text': 'Saint Bernadette Soubirous'}], 'question': 'To whom did the Virgin Mary allegedly appear in 1858 in Lourdes France?', 'id': '5733be284776f41900661182'}\n",
      "Architecturally, the school has a Catholic character. Atop the Main Building's gold dome is a golden statue of the Virgin Mary. Immediately in front of the Main Building and facing it, is a copper statue of Christ with arms upraised with the legend \"Venite Ad Me Omnes\". Next to the Main Building is the Basilica of the Sacred Heart. Immediately behind the basilica is the Grotto, a Marian place of prayer and reflection. It is a replica of the grotto at Lourdes, France where the Virgin Mary reputedly appeared to Saint Bernadette Soubirous in 1858. At the end of the main drive (and in a direct line that connects through 3 statues and the Gold Dome), is a simple, modern stone statue of Mary.\n"
     ]
    }
   ],
   "source": [
    "print(train_dict.keys())\n",
    "print(type(train_dict['data']), len(train_dict['data']))\n",
    "print(train_dict['data'][0].keys())\n",
    "print(type(train_dict['data'][0]['paragraphs']), len(train_dict['data'][0]['paragraphs']))\n",
    "print(train_dict['data'][0]['paragraphs'][0].keys())\n",
    "print(type(train_dict['data'][0]['paragraphs'][0]['qas']), len(train_dict['data'][0]['paragraphs'][0]['qas']))\n",
    "print(train_dict['data'][0]['paragraphs'][0]['qas'][0].keys())\n",
    "print(train_dict['data'][0]['paragraphs'][0]['qas'][0])\n",
    "print(train_dict['data'][0]['paragraphs'][0]['context'])"
   ]
  },
  {
   "cell_type": "code",
   "execution_count": 113,
   "id": "72c0faef-28f3-455f-9bd7-894c625967db",
   "metadata": {
    "collapsed": true,
    "jupyter": {
     "outputs_hidden": true
    },
    "tags": []
   },
   "outputs": [
    {
     "name": "stdout",
     "output_type": "stream",
     "text": [
      "dict_keys(['data', 'version'])\n",
      "<class 'list'> 48\n",
      "dict_keys(['title', 'paragraphs'])\n",
      "<class 'list'> 54\n",
      "dict_keys(['context', 'qas'])\n",
      "<class 'list'> 30\n",
      "dict_keys(['answers', 'question', 'id'])\n",
      "{'answers': [{'answer_start': 177, 'text': 'Denver Broncos'}, {'answer_start': 177, 'text': 'Denver Broncos'}, {'answer_start': 177, 'text': 'Denver Broncos'}], 'question': 'Which NFL team represented the AFC at Super Bowl 50?', 'id': '56be4db0acb8001400a502ec'}\n",
      "Super Bowl 50 was an American football game to determine the champion of the National Football League (NFL) for the 2015 season. The American Football Conference (AFC) champion Denver Broncos defeated the National Football Conference (NFC) champion Carolina Panthers 24–10 to earn their third Super Bowl title. The game was played on February 7, 2016, at Levi's Stadium in the San Francisco Bay Area at Santa Clara, California. As this was the 50th Super Bowl, the league emphasized the \"golden anniversary\" with various gold-themed initiatives, as well as temporarily suspending the tradition of naming each Super Bowl game with Roman numerals (under which the game would have been known as \"Super Bowl L\"), so that the logo could prominently feature the Arabic numerals 50.\n"
     ]
    }
   ],
   "source": [
    "print(test_dict.keys())\n",
    "print(type(test_dict['data']), len(test_dict['data']))\n",
    "print(test_dict['data'][0].keys())\n",
    "print(type(test_dict['data'][0]['paragraphs']), len(test_dict['data'][0]['paragraphs']))\n",
    "print(test_dict['data'][0]['paragraphs'][0].keys())\n",
    "print(type(test_dict['data'][0]['paragraphs'][0]['qas']), len(test_dict['data'][0]['paragraphs'][0]['qas']))\n",
    "print(test_dict['data'][0]['paragraphs'][0]['qas'][0].keys())\n",
    "print(test_dict['data'][0]['paragraphs'][0]['qas'][0])\n",
    "print(test_dict['data'][0]['paragraphs'][0]['context'])"
   ]
  },
  {
   "cell_type": "code",
   "execution_count": 143,
   "id": "a3372e8d-25a8-4b89-b0c9-356611f1bf14",
   "metadata": {},
   "outputs": [
    {
     "name": "stdout",
     "output_type": "stream",
     "text": [
      "0\n",
      "87599\n",
      "10567\n",
      "10570\n"
     ]
    }
   ],
   "source": [
    "# テストデータだけ複数答えがある→CrossEntropyで学習しても大丈夫\n",
    "index_lst = []\n",
    "for i, title in enumerate(train_data['data']):\n",
    "    for j, paragraph in enumerate(title['paragraphs']):\n",
    "        for k, qa in enumerate(paragraph['qas']):\n",
    "            index_lst.append(str(i)+'-'+str(j)+'-'+str(k))\n",
    "count = 0\n",
    "for i in range(len(index_lst)):\n",
    "    idx = list(map(lambda x: int(x), index_lst[i].split('-')))\n",
    "    answers = train_data['data'][idx[0]]['paragraphs'][idx[1]]['qas'][idx[2]]['answers']\n",
    "    if len(answers) > 1:\n",
    "#        print(answers)\n",
    "        count += 1\n",
    "print(count)\n",
    "print(len(index_lst))\n",
    "index_lst = []\n",
    "for i, title in enumerate(test_data['data']):\n",
    "    for j, paragraph in enumerate(title['paragraphs']):\n",
    "        for k, qa in enumerate(paragraph['qas']):\n",
    "            index_lst.append(str(i)+'-'+str(j)+'-'+str(k))\n",
    "count = 0\n",
    "for i in range(len(index_lst)):\n",
    "    idx = list(map(lambda x: int(x), index_lst[i].split('-')))\n",
    "    answers = test_data['data'][idx[0]]['paragraphs'][idx[1]]['qas'][idx[2]]['answers']\n",
    "    if len(answers) > 1:\n",
    "#        print(answers)\n",
    "        count += 1\n",
    "print(count)\n",
    "print(len(index_lst))"
   ]
  },
  {
   "cell_type": "code",
   "execution_count": 79,
   "id": "9617d4de-54f3-4d70-8b9a-c8b4f7e0d5f9",
   "metadata": {},
   "outputs": [
    {
     "name": "stdout",
     "output_type": "stream",
     "text": [
      "Super Bowl 50 was an American football game to determine the champion of the National Football League (NFL) for the 2015 season. The American Football Conference (AFC) champion Denver Broncos defeated the National Football Conference (NFC) champion Carolina Panthers 24–10 to earn their third Super Bowl title. The game was played on February 7, 2016, at Levi's Stadium in the San Francisco Bay Area at Santa Clara, California. As this was the 50th Super Bowl, the league emphasized the \"golden anniversary\" with various gold-themed initiatives, as well as temporarily suspending the tradition of naming each Super Bowl game with Roman numerals (under which the game would have been known as \"Super Bowl L\"), so that the logo could prominently feature the Arabic numerals 50.\n",
      "Which NFL team represented the AFC at Super Bowl 50?\n",
      "[{'answer_start': 177, 'text': 'Denver Broncos'}, {'answer_start': 177, 'text': 'Denver Broncos'}, {'answer_start': 177, 'text': 'Denver Broncos'}]\n",
      "\n",
      "Super Bowl 50 was an American football game to determine the champion of the National Football League (NFL) for the 2015 season. The American Football Conference (AFC) champion Denver Broncos defeated the National Football Conference (NFC) champion Carolina Panthers 24–10 to earn their third Super Bowl title. The game was played on February 7, 2016, at Levi's Stadium in the San Francisco Bay Area at Santa Clara, California. As this was the 50th Super Bowl, the league emphasized the \"golden anniversary\" with various gold-themed initiatives, as well as temporarily suspending the tradition of naming each Super Bowl game with Roman numerals (under which the game would have been known as \"Super Bowl L\"), so that the logo could prominently feature the Arabic numerals 50.\n",
      "Which NFL team represented the NFC at Super Bowl 50?\n",
      "[{'answer_start': 249, 'text': 'Carolina Panthers'}, {'answer_start': 249, 'text': 'Carolina Panthers'}, {'answer_start': 249, 'text': 'Carolina Panthers'}]\n",
      "\n",
      "Super Bowl 50 was an American football game to determine the champion of the National Football League (NFL) for the 2015 season. The American Football Conference (AFC) champion Denver Broncos defeated the National Football Conference (NFC) champion Carolina Panthers 24–10 to earn their third Super Bowl title. The game was played on February 7, 2016, at Levi's Stadium in the San Francisco Bay Area at Santa Clara, California. As this was the 50th Super Bowl, the league emphasized the \"golden anniversary\" with various gold-themed initiatives, as well as temporarily suspending the tradition of naming each Super Bowl game with Roman numerals (under which the game would have been known as \"Super Bowl L\"), so that the logo could prominently feature the Arabic numerals 50.\n",
      "Where did Super Bowl 50 take place?\n",
      "[{'answer_start': 403, 'text': 'Santa Clara, California'}, {'answer_start': 355, 'text': \"Levi's Stadium\"}, {'answer_start': 355, 'text': \"Levi's Stadium in the San Francisco Bay Area at Santa Clara, California.\"}]\n",
      "\n",
      "Super Bowl 50 was an American football game to determine the champion of the National Football League (NFL) for the 2015 season. The American Football Conference (AFC) champion Denver Broncos defeated the National Football Conference (NFC) champion Carolina Panthers 24–10 to earn their third Super Bowl title. The game was played on February 7, 2016, at Levi's Stadium in the San Francisco Bay Area at Santa Clara, California. As this was the 50th Super Bowl, the league emphasized the \"golden anniversary\" with various gold-themed initiatives, as well as temporarily suspending the tradition of naming each Super Bowl game with Roman numerals (under which the game would have been known as \"Super Bowl L\"), so that the logo could prominently feature the Arabic numerals 50.\n",
      "Which NFL team won Super Bowl 50?\n",
      "[{'answer_start': 177, 'text': 'Denver Broncos'}, {'answer_start': 177, 'text': 'Denver Broncos'}, {'answer_start': 177, 'text': 'Denver Broncos'}]\n",
      "\n",
      "Super Bowl 50 was an American football game to determine the champion of the National Football League (NFL) for the 2015 season. The American Football Conference (AFC) champion Denver Broncos defeated the National Football Conference (NFC) champion Carolina Panthers 24–10 to earn their third Super Bowl title. The game was played on February 7, 2016, at Levi's Stadium in the San Francisco Bay Area at Santa Clara, California. As this was the 50th Super Bowl, the league emphasized the \"golden anniversary\" with various gold-themed initiatives, as well as temporarily suspending the tradition of naming each Super Bowl game with Roman numerals (under which the game would have been known as \"Super Bowl L\"), so that the logo could prominently feature the Arabic numerals 50.\n",
      "What color was used to emphasize the 50th anniversary of the Super Bowl?\n",
      "[{'answer_start': 488, 'text': 'gold'}, {'answer_start': 488, 'text': 'gold'}, {'answer_start': 521, 'text': 'gold'}]\n",
      "\n",
      "Super Bowl 50 was an American football game to determine the champion of the National Football League (NFL) for the 2015 season. The American Football Conference (AFC) champion Denver Broncos defeated the National Football Conference (NFC) champion Carolina Panthers 24–10 to earn their third Super Bowl title. The game was played on February 7, 2016, at Levi's Stadium in the San Francisco Bay Area at Santa Clara, California. As this was the 50th Super Bowl, the league emphasized the \"golden anniversary\" with various gold-themed initiatives, as well as temporarily suspending the tradition of naming each Super Bowl game with Roman numerals (under which the game would have been known as \"Super Bowl L\"), so that the logo could prominently feature the Arabic numerals 50.\n",
      "What was the theme of Super Bowl 50?\n",
      "[{'answer_start': 487, 'text': '\"golden anniversary\"'}, {'answer_start': 521, 'text': 'gold-themed'}, {'answer_start': 487, 'text': '\"golden anniversary'}]\n",
      "\n",
      "Super Bowl 50 was an American football game to determine the champion of the National Football League (NFL) for the 2015 season. The American Football Conference (AFC) champion Denver Broncos defeated the National Football Conference (NFC) champion Carolina Panthers 24–10 to earn their third Super Bowl title. The game was played on February 7, 2016, at Levi's Stadium in the San Francisco Bay Area at Santa Clara, California. As this was the 50th Super Bowl, the league emphasized the \"golden anniversary\" with various gold-themed initiatives, as well as temporarily suspending the tradition of naming each Super Bowl game with Roman numerals (under which the game would have been known as \"Super Bowl L\"), so that the logo could prominently feature the Arabic numerals 50.\n",
      "What day was the game played on?\n",
      "[{'answer_start': 334, 'text': 'February 7, 2016'}, {'answer_start': 334, 'text': 'February 7'}, {'answer_start': 334, 'text': 'February 7, 2016'}]\n",
      "\n",
      "Super Bowl 50 was an American football game to determine the champion of the National Football League (NFL) for the 2015 season. The American Football Conference (AFC) champion Denver Broncos defeated the National Football Conference (NFC) champion Carolina Panthers 24–10 to earn their third Super Bowl title. The game was played on February 7, 2016, at Levi's Stadium in the San Francisco Bay Area at Santa Clara, California. As this was the 50th Super Bowl, the league emphasized the \"golden anniversary\" with various gold-themed initiatives, as well as temporarily suspending the tradition of naming each Super Bowl game with Roman numerals (under which the game would have been known as \"Super Bowl L\"), so that the logo could prominently feature the Arabic numerals 50.\n",
      "What is the AFC short for?\n",
      "[{'answer_start': 133, 'text': 'American Football Conference'}, {'answer_start': 133, 'text': 'American Football Conference'}, {'answer_start': 133, 'text': 'American Football Conference'}]\n",
      "\n",
      "Super Bowl 50 was an American football game to determine the champion of the National Football League (NFL) for the 2015 season. The American Football Conference (AFC) champion Denver Broncos defeated the National Football Conference (NFC) champion Carolina Panthers 24–10 to earn their third Super Bowl title. The game was played on February 7, 2016, at Levi's Stadium in the San Francisco Bay Area at Santa Clara, California. As this was the 50th Super Bowl, the league emphasized the \"golden anniversary\" with various gold-themed initiatives, as well as temporarily suspending the tradition of naming each Super Bowl game with Roman numerals (under which the game would have been known as \"Super Bowl L\"), so that the logo could prominently feature the Arabic numerals 50.\n",
      "What was the theme of Super Bowl 50?\n",
      "[{'answer_start': 487, 'text': '\"golden anniversary\"'}, {'answer_start': 521, 'text': 'gold-themed'}, {'answer_start': 521, 'text': 'gold'}]\n",
      "\n",
      "Super Bowl 50 was an American football game to determine the champion of the National Football League (NFL) for the 2015 season. The American Football Conference (AFC) champion Denver Broncos defeated the National Football Conference (NFC) champion Carolina Panthers 24–10 to earn their third Super Bowl title. The game was played on February 7, 2016, at Levi's Stadium in the San Francisco Bay Area at Santa Clara, California. As this was the 50th Super Bowl, the league emphasized the \"golden anniversary\" with various gold-themed initiatives, as well as temporarily suspending the tradition of naming each Super Bowl game with Roman numerals (under which the game would have been known as \"Super Bowl L\"), so that the logo could prominently feature the Arabic numerals 50.\n",
      "What does AFC stand for?\n",
      "[{'answer_start': 133, 'text': 'American Football Conference'}, {'answer_start': 133, 'text': 'American Football Conference'}, {'answer_start': 133, 'text': 'American Football Conference'}]\n",
      "\n",
      "Super Bowl 50 was an American football game to determine the champion of the National Football League (NFL) for the 2015 season. The American Football Conference (AFC) champion Denver Broncos defeated the National Football Conference (NFC) champion Carolina Panthers 24–10 to earn their third Super Bowl title. The game was played on February 7, 2016, at Levi's Stadium in the San Francisco Bay Area at Santa Clara, California. As this was the 50th Super Bowl, the league emphasized the \"golden anniversary\" with various gold-themed initiatives, as well as temporarily suspending the tradition of naming each Super Bowl game with Roman numerals (under which the game would have been known as \"Super Bowl L\"), so that the logo could prominently feature the Arabic numerals 50.\n",
      "What day was the Super Bowl played on?\n",
      "[{'answer_start': 334, 'text': 'February 7, 2016'}, {'answer_start': 334, 'text': 'February 7'}, {'answer_start': 334, 'text': 'February 7, 2016'}]\n",
      "\n"
     ]
    }
   ],
   "source": [
    "count = 0\n",
    "for i, title in enumerate(test_dict['data']):\n",
    "    for j, paragraph in enumerate(title['paragraphs']):\n",
    "        for k, qa in enumerate(paragraph['qas']):\n",
    "            print(test_dict['data'][i]['paragraphs'][j]['context'])\n",
    "            print(test_dict['data'][i]['paragraphs'][j]['qas'][k]['question'])\n",
    "            print(test_dict['data'][i]['paragraphs'][j]['qas'][k]['answers'])\n",
    "            print()\n",
    "            count += 1\n",
    "            if count > 10:\n",
    "                break\n",
    "        if count > 10:\n",
    "            break\n",
    "    if count > 10:\n",
    "        break"
   ]
  },
  {
   "cell_type": "markdown",
   "id": "716765b5-6949-4742-8e88-b575232af685",
   "metadata": {},
   "source": [
    "# 実験"
   ]
  },
  {
   "cell_type": "code",
   "execution_count": 2,
   "id": "ce1d9e11-4c19-4bfd-aca2-9ca0e6d39906",
   "metadata": {},
   "outputs": [
    {
     "name": "stderr",
     "output_type": "stream",
     "text": [
      "C:\\Users\\gabriel\\anaconda3\\envs\\torch\\lib\\site-packages\\gensim\\similarities\\__init__.py:15: UserWarning: The gensim.similarities.levenshtein submodule is disabled, because the optional Levenshtein package <https://pypi.org/project/python-Levenshtein/> is unavailable. Install Levenhstein (e.g. `pip install python-Levenshtein`) to suppress this warning.\n",
      "  warnings.warn(msg)\n"
     ]
    }
   ],
   "source": [
    "import torch\n",
    "import torch.nn as nn\n",
    "import torch.nn.functional as F\n",
    "from torch.utils.data import Dataset, DataLoader\n",
    "from sklearn.model_selection import train_test_split\n",
    "from nltk.tokenize import word_tokenize\n",
    "import gensim\n",
    "import json\n",
    "import matplotlib.pyplot as plt"
   ]
  },
  {
   "cell_type": "code",
   "execution_count": 2,
   "id": "600f545f-bb97-4a25-87e2-de78ec6f8563",
   "metadata": {},
   "outputs": [],
   "source": [
    "isModeling = True\n",
    "\n",
    "# data loaderのため\n",
    "torch.manual_seed(0)\n",
    "device = torch.device('cuda') if torch.cuda.is_available() else torch.device('cpu')\n",
    "print(\"device:\", device)\n",
    "\n",
    "w2v_undebiased = gensim.models.KeyedVectors.load_word2vec_format('./GoogleNews-vectors-negative300.bin', binary=True)\n",
    "w2v_debiased = gensim.models.KeyedVectors.load_word2vec_format('./GoogleNews-vectors-negative300-hard-debiased.bin', binary=True)\n",
    "w2v_dim = 300"
   ]
  },
  {
   "cell_type": "code",
   "execution_count": 3,
   "id": "4969671e-1440-431b-9cf9-3faf18634b59",
   "metadata": {},
   "outputs": [],
   "source": [
    "with open('data/squad1.1/train-v1.1.json', encoding='utf-8') as f:\n",
    "    data_dict = json.load(f)\n",
    "\n",
    "max_words_context = 0\n",
    "max_words_question = 0\n",
    "data_idxs = []\n",
    "for i, title in enumerate(data_dict['data']):\n",
    "    for j, paragraph in enumerate(title['paragraphs']):\n",
    "        num_words_context = len(word_tokenize(paragraph['context'].lower()))\n",
    "        if num_words_context > max_words_context:\n",
    "            max_words_context = num_words_context\n",
    "        for k, qa in enumerate(paragraph['qas']):\n",
    "            data_idxs.append(str(i)+'-'+str(j)+'-'+str(k))\n",
    "            num_words_question = len(word_tokenize(qa['question'].lower()))\n",
    "            if num_words_question > max_words_question:\n",
    "                max_words_question = num_words_question\n",
    "train_idxs, test_idxs = train_test_split(data_idxs, test_size=0.2, random_state=0)"
   ]
  },
  {
   "cell_type": "code",
   "execution_count": 5,
   "id": "d853806a-bf39-4727-a653-9a7e412f8b9e",
   "metadata": {},
   "outputs": [
    {
     "name": "stdout",
     "output_type": "stream",
     "text": [
      "70079\n",
      "17520\n",
      "239.99657534246575\n",
      "60.0\n"
     ]
    }
   ],
   "source": [
    "print(len(train_idxs))\n",
    "print(len(test_idxs))\n",
    "print(len(train_idxs) / 292)\n",
    "print(len(test_idxs) / 292)"
   ]
  },
  {
   "cell_type": "code",
   "execution_count": 2,
   "id": "177508c4-5ace-41ad-9e22-ae34e7cfd79c",
   "metadata": {},
   "outputs": [
    {
     "name": "stdout",
     "output_type": "stream",
     "text": [
      "device: cuda\n"
     ]
    }
   ],
   "source": [
    "class MyDataset(Dataset):\n",
    "    def __init__(self,\n",
    "                 data_dict, index_lst,\n",
    "                 max_words_context, max_words_question, w2v_dim,\n",
    "                 w2v_model):\n",
    "        self.data_dict = data_dict\n",
    "        self.index_lst = index_lst\n",
    "        self.num_data = len(index_lst)\n",
    "        self.max_words_context = max_words_context\n",
    "        self.max_words_question = max_words_question\n",
    "        self.w2v_dim = w2v_dim\n",
    "        self.w2v_model = w2v_model\n",
    "\n",
    "    def __len__(self):\n",
    "        return self.num_data\n",
    "\n",
    "    def __getitem__(self, i):\n",
    "        idx = list(map(lambda x: int(x), self.index_lst[i].split('-')))\n",
    "        context = self.data_dict['data'][idx[0]]['paragraphs'][idx[1]]['context']\n",
    "        context = word_tokenize(context.lower())\n",
    "        context_emb = torch.zeros(self.max_words_context, self.w2v_dim)\n",
    "        for i, word in enumerate(context):\n",
    "            if word in self.w2v_model.key_to_index:\n",
    "                context_emb[i] += self.w2v_model[word]\n",
    "        question = self.data_dict['data'][idx[0]]['paragraphs'][idx[1]]['qas'][idx[2]]['question']\n",
    "        question = word_tokenize(question.lower())\n",
    "        question_emb = torch.zeros(self.max_words_question, self.w2v_dim)\n",
    "        for i, word in enumerate(question):\n",
    "            if word in self.w2v_model.key_to_index:\n",
    "                question_emb[i] += self.w2v_model[word]\n",
    "        answer = self.data_dict['data'][idx[0]]['paragraphs'][idx[1]]['qas'][idx[2]]['answers'][0]\n",
    "        context = self.data_dict['data'][idx[0]]['paragraphs'][idx[1]]['context']\n",
    "        context = context[:answer['answer_start']] + ' _start_point_ ' + context[answer['answer_start']:]\n",
    "        context = word_tokenize(context.lower())\n",
    "        start_idx = context.index('_start_point_')\n",
    "        end_idx = start_idx + len(word_tokenize(answer['text'])) - 1\n",
    "        return context_emb, question_emb, start_idx, end_idx\n",
    "\n",
    "udb_train_set = MyDataset(data_dict, train_idxs, max_words_context, max_words_question, w2v_dim, w2v_undebiased)\n",
    "udb_test_set = MyDataset(data_dict, test_idxs, max_words_context, max_words_question, w2v_dim, w2v_undebiased)\n",
    "db_train_set = MyDataset(data_dict, train_idxs, max_words_context, max_words_question, w2v_dim, w2v_debiased)\n",
    "db_test_set = MyDataset(data_dict, test_idxs, max_words_context, max_words_question, w2v_dim, w2v_debiased)"
   ]
  },
  {
   "cell_type": "code",
   "execution_count": 5,
   "id": "12924d39-b74e-44a2-b423-9de4500d809c",
   "metadata": {},
   "outputs": [],
   "source": [
    "# 入力：文書と質問(バッチ数x単語数x分散表現の次元)\n",
    "# 出力：文書の中で答えと予想される範囲の始まりと終わりの分布(バッチ数x単語数)\n",
    "class DocReader(nn.Module):\n",
    "    def __init__(self, input_dim, hidden_dim, num_layer, dropout):\n",
    "        super(DocReader, self).__init__()\n",
    "        self.P_Enc = nn.LSTM(\n",
    "            input_dim, hidden_dim, num_layers=num_layer,\n",
    "            dropout=dropout, bidirectional=True,\n",
    "            batch_first=True\n",
    "        )\n",
    "        self.Q_Enc = nn.LSTM(\n",
    "            input_dim, hidden_dim, num_layers=num_layer,\n",
    "            dropout=dropout, bidirectional=True,\n",
    "            batch_first=True\n",
    "        )\n",
    "        self.Q_AccumWeight = nn.Linear(hidden_dim*2, 1, bias=False)\n",
    "        self.Start_Pred = nn.Linear(hidden_dim*2, hidden_dim*2, bias=False)\n",
    "        self.End_Pred = nn.Linear(hidden_dim*2, hidden_dim*2, bias=False)\n",
    "\n",
    "    def forward(self, p, q):\n",
    "        p, _ = self.P_Enc(p)\n",
    "        q, _ = self.Q_Enc(q)\n",
    "        b = F.softmax(self.Q_AccumWeight(q), dim=1)\n",
    "        q = (q*b).sum(dim=1)\n",
    "        pred_start = torch.einsum('bnm,bm->bn', self.Start_Pred(p), q)\n",
    "        pred_end = torch.einsum('bnm,bm->bn', self.End_Pred(p), q)\n",
    "        return pred_start, pred_end\n",
    "\n",
    "num_epoch = 10\n",
    "num_experiment = 100\n",
    "LSTM_hidden_dim = 128\n",
    "LSTM_num_layer = 3\n",
    "dropout_rate = 0.3\n",
    "lr = 0.1\n",
    "\n",
    "def eval_exact_match(pred_start, pred_end, y_start, y_end):\n",
    "    pred_start = pred_start.max(dim=1).indices\n",
    "    pred_end = pred_end.max(dim=1).indices\n",
    "    match = torch.logical_and(pred_start==y_start, pred_end==y_end)\n",
    "    return match.sum() / len(match)\n",
    "\n",
    "def eval_f1(pred_start, pred_end, y_start, y_end):\n",
    "    pred_start = pred_start.max(dim=1).indices\n",
    "    pred_end = pred_end.max(dim=1).indices\n",
    "    start_diff = pred_start - y_start\n",
    "    start_diff = torch.where(start_diff > 0, start_diff, 0)\n",
    "    end_diff = y_end - pred_end\n",
    "    end_diff = torch.where(end_diff > 0, end_diff, 0)\n",
    "    TP = (y_end - y_start + 1 - start_diff - end_diff).double()\n",
    "    TP = torch.where(TP > 0, TP, 1e-10) # TP=0だとf1がnanになる\n",
    "    recall = TP / (y_end - y_start + 1)\n",
    "    pred_diff = pred_end - pred_start\n",
    "    pred_diff = torch.where(pred_diff > 0, pred_diff, 0)\n",
    "    precision = TP / (pred_diff + 1)\n",
    "#     precision = TP / (pred_end - pred_start + 1)\n",
    "    f1 = 2*recall*precision / (recall + precision)\n",
    "#     if torch.any(torch.logical_or(f1.isnan(), f1.isinf())):\n",
    "#         print('recall:', recall)\n",
    "#         print('precision:', precision)\n",
    "    return f1.mean()\n",
    "\n",
    "def train(isModeling, train_loader, test_loader, representation):\n",
    "    if isModeling:\n",
    "        num_experiment = 1\n",
    "    else:\n",
    "        em_scores = []\n",
    "        f1_scores = []\n",
    "        preds = []\n",
    "    for experiment in range(num_experiment):\n",
    "        # modelの初期値のため\n",
    "        torch.manual_seed(experiment)\n",
    "        model = DocReader(w2v_dim, LSTM_hidden_dim, LSTM_num_layer, dropout_rate).to(device)\n",
    "        loss_fn = nn.CrossEntropyLoss()\n",
    "        optimizer = torch.optim.Adamax(model.parameters(), lr=lr)\n",
    "\n",
    "        train_loss_log = []\n",
    "        eval_loss_log = []\n",
    "        eval_em_log = []\n",
    "        eval_f1_log = []\n",
    "        for epoch in range(num_epoch):\n",
    "            model.train()\n",
    "            train_loss = 0\n",
    "            for X_context, X_question, y_start, y_end in train_loader:\n",
    "                X_context = X_context.to(device)\n",
    "                X_question = X_question.to(device)\n",
    "                y_start = y_start.to(device)\n",
    "                y_end = y_end.to(device)\n",
    "                pred_start, pred_end = model(X_context, X_question)\n",
    "                loss = loss_fn(pred_start, y_start) + loss_fn(pred_end, y_end)\n",
    "                optimizer.zero_grad()\n",
    "                loss.backward()\n",
    "                optimizer.step()\n",
    "                train_loss += loss*len(y_start)\n",
    "            train_loss /= len(train_idxs)\n",
    "            train_loss_log.append(train_loss.cpu().item())\n",
    "\n",
    "            model.eval()\n",
    "            eval_loss = 0\n",
    "            em_total = 0\n",
    "            f1_total = 0\n",
    "            with torch.no_grad():\n",
    "                for X_context, X_question, y_start, y_end in test_loader:\n",
    "                    X_context = X_context.to(device)\n",
    "                    X_question = X_question.to(device)\n",
    "                    y_start = y_start.to(device)\n",
    "                    y_end = y_end.to(device)\n",
    "                    pred_start, pred_end = model(X_context, X_question)\n",
    "                    loss = loss_fn(pred_start, y_start) + loss_fn(pred_end, y_end)\n",
    "                    eval_loss += loss\n",
    "                    em = eval_exact_match(pred_start, pred_end, y_start, y_end)\n",
    "                    em_total += em\n",
    "                    f1 = eval_f1(pred_start, pred_end, y_start, y_end)\n",
    "                    f1_total += f1\n",
    "                eval_loss /= len(test_loader)\n",
    "                eval_loss_log.append(eval_loss.cpu().item())\n",
    "                em_total /= len(test_loader)\n",
    "                eval_em_log.append(em_total.cpu().item())\n",
    "                f1_total /= len(test_loader)\n",
    "                eval_f1_log.append(f1_total.cpu().item())\n",
    "            if isModeling:\n",
    "                print('Epoch{}'.format(epoch+1))\n",
    "                print('loss train:{:.4}, test:{:.4}'.format(train_loss, eval_loss))\n",
    "                print('score EM:{:.4}, F1:{:.4}'.format(em_total, f1_total))\n",
    "\n",
    "        if isModeling:\n",
    "            fig = plt.figure()\n",
    "            ax = fig.add_subplot(1, 1, 1)\n",
    "            ax.plot(range(1, 11), train_loss_log, label='train loss')\n",
    "            ax.plot(range(1, 11), eval_loss_log, label='eval loss')\n",
    "            fig.suptitle('loss log')\n",
    "            fig.legend()\n",
    "            fig.show()\n",
    "\n",
    "            fig = plt.figure()\n",
    "            ax = fig.add_subplot(1, 1, 1)\n",
    "            ax.plot(range(1, 11), eval_em_log, label='Exact Match')\n",
    "            ax.plot(range(1, 11), eval_f1_log, label='F1')\n",
    "            fig.suptitle('acc log')\n",
    "            fig.legend()\n",
    "            fig.show()"
   ]
  },
  {
   "cell_type": "code",
   "execution_count": 6,
   "id": "c811359d-eda2-4e4a-8fa0-671039e4fcee",
   "metadata": {
    "tags": []
   },
   "outputs": [
    {
     "name": "stdout",
     "output_type": "stream",
     "text": [
      "Epoch1\n",
      "loss train:13.49, test:10.12\n",
      "score EM:0.0, F1:6.469e-11\n",
      "Epoch2\n",
      "loss train:9.632, test:9.051\n",
      "score EM:0.002397, F1:0.05234\n",
      "Epoch3\n",
      "loss train:8.834, test:8.354\n",
      "score EM:0.01438, F1:0.03983\n",
      "Epoch4\n",
      "loss train:8.499, test:8.288\n",
      "score EM:0.01558, F1:0.0491\n",
      "Epoch5\n",
      "loss train:8.434, test:8.126\n",
      "score EM:0.023, F1:0.05182\n",
      "Epoch6\n",
      "loss train:8.309, test:8.093\n",
      "score EM:0.02534, F1:0.05836\n",
      "Epoch7\n",
      "loss train:8.346, test:8.016\n",
      "score EM:0.02728, F1:0.05727\n",
      "Epoch8\n",
      "loss train:8.238, test:8.015\n",
      "score EM:0.03202, F1:0.06169\n",
      "Epoch9\n",
      "loss train:8.132, test:7.983\n",
      "score EM:0.0238, F1:0.06217\n",
      "Epoch10\n",
      "loss train:8.089, test:7.945\n",
      "score EM:0.02865, F1:0.06494\n"
     ]
    },
    {
     "name": "stderr",
     "output_type": "stream",
     "text": [
      "<ipython-input-5-6d008b339f78>:132: UserWarning: Matplotlib is currently using module://ipykernel.pylab.backend_inline, which is a non-GUI backend, so cannot show the figure.\n",
      "  fig.show()\n"
     ]
    },
    {
     "ename": "NameError",
     "evalue": "name 'show' is not defined",
     "output_type": "error",
     "traceback": [
      "\u001b[1;31m---------------------------------------------------------------------------\u001b[0m",
      "\u001b[1;31mNameError\u001b[0m                                 Traceback (most recent call last)",
      "\u001b[1;32m<ipython-input-6-2295af3b157a>\u001b[0m in \u001b[0;36m<module>\u001b[1;34m\u001b[0m\n\u001b[0;32m      4\u001b[0m \u001b[1;31m# db_train_loader = DataLoader(udb_train_set, batch_size=batch_size, shuffle=True)\u001b[0m\u001b[1;33m\u001b[0m\u001b[1;33m\u001b[0m\u001b[1;33m\u001b[0m\u001b[0m\n\u001b[0;32m      5\u001b[0m \u001b[1;31m# db_test_loader = DataLoader(udb_test_set, batch_size=batch_size)\u001b[0m\u001b[1;33m\u001b[0m\u001b[1;33m\u001b[0m\u001b[1;33m\u001b[0m\u001b[0m\n\u001b[1;32m----> 6\u001b[1;33m \u001b[0mtrain\u001b[0m\u001b[1;33m(\u001b[0m\u001b[1;32mTrue\u001b[0m\u001b[1;33m,\u001b[0m \u001b[0mudb_train_loader\u001b[0m\u001b[1;33m,\u001b[0m \u001b[0mudb_test_loader\u001b[0m\u001b[1;33m,\u001b[0m \u001b[1;34m'udb'\u001b[0m\u001b[1;33m)\u001b[0m\u001b[1;33m\u001b[0m\u001b[1;33m\u001b[0m\u001b[0m\n\u001b[0m",
      "\u001b[1;32m<ipython-input-5-6d008b339f78>\u001b[0m in \u001b[0;36mtrain\u001b[1;34m(isModeling, train_loader, test_loader, representation)\u001b[0m\n\u001b[0;32m    137\u001b[0m             \u001b[0max\u001b[0m\u001b[1;33m.\u001b[0m\u001b[0mplot\u001b[0m\u001b[1;33m(\u001b[0m\u001b[0mrange\u001b[0m\u001b[1;33m(\u001b[0m\u001b[1;36m1\u001b[0m\u001b[1;33m,\u001b[0m \u001b[1;36m11\u001b[0m\u001b[1;33m)\u001b[0m\u001b[1;33m,\u001b[0m \u001b[0meval_f1_log\u001b[0m\u001b[1;33m,\u001b[0m \u001b[0mlabel\u001b[0m\u001b[1;33m=\u001b[0m\u001b[1;34m'F1'\u001b[0m\u001b[1;33m)\u001b[0m\u001b[1;33m\u001b[0m\u001b[1;33m\u001b[0m\u001b[0m\n\u001b[0;32m    138\u001b[0m             \u001b[0mfig\u001b[0m\u001b[1;33m.\u001b[0m\u001b[0msuptitle\u001b[0m\u001b[1;33m(\u001b[0m\u001b[1;34m'acc log'\u001b[0m\u001b[1;33m)\u001b[0m\u001b[1;33m\u001b[0m\u001b[1;33m\u001b[0m\u001b[0m\n\u001b[1;32m--> 139\u001b[1;33m             \u001b[0mshow\u001b[0m\u001b[1;33m(\u001b[0m\u001b[1;33m)\u001b[0m\u001b[1;33m\u001b[0m\u001b[1;33m\u001b[0m\u001b[0m\n\u001b[0m",
      "\u001b[1;31mNameError\u001b[0m: name 'show' is not defined"
     ]
    },
    {
     "data": {
      "image/png": "[encoded data removed]",
      "text/plain": [
       "<Figure size 432x288 with 1 Axes>"
      ]
     },
     "metadata": {
      "needs_background": "light"
     },
     "output_type": "display_data"
    },
    {
     "data": {
      "image/png": "[encoded data removed]",
      "text/plain": [
       "<Figure size 432x288 with 1 Axes>"
      ]
     },
     "metadata": {
      "needs_background": "light"
     },
     "output_type": "display_data"
    }
   ],
   "source": [
    "batch_size = 292\n",
    "udb_train_loader = DataLoader(udb_train_set, batch_size=batch_size, shuffle=True)\n",
    "udb_test_loader = DataLoader(udb_test_set, batch_size=batch_size)\n",
    "# db_train_loader = DataLoader(udb_train_set, batch_size=batch_size, shuffle=True)\n",
    "# db_test_loader = DataLoader(udb_test_set, batch_size=batch_size)\n",
    "train(True, udb_train_loader, udb_test_loader, 'udb')"
   ]
  },
  {
   "cell_type": "markdown",
   "id": "016aa2f1-fbfe-42d8-9795-a55d8d4207d7",
   "metadata": {},
   "source": [
    "# DataLoader改善"
   ]
  },
  {
   "cell_type": "code",
   "execution_count": 1,
   "id": "d556061b-d2a1-4208-9ba0-c51037f07efb",
   "metadata": {},
   "outputs": [
    {
     "data": {
      "text/plain": [
       "16"
      ]
     },
     "execution_count": 1,
     "metadata": {},
     "output_type": "execute_result"
    }
   ],
   "source": [
    "import os\n",
    "os.cpu_count()"
   ]
  },
  {
   "cell_type": "code",
   "execution_count": 1,
   "id": "cce8cb29-2649-4df1-886c-4db94dc1fb91",
   "metadata": {},
   "outputs": [
    {
     "name": "stderr",
     "output_type": "stream",
     "text": [
      "C:\\Users\\gabriel\\anaconda3\\envs\\torch\\lib\\site-packages\\gensim\\similarities\\__init__.py:15: UserWarning: The gensim.similarities.levenshtein submodule is disabled, because the optional Levenshtein package <https://pypi.org/project/python-Levenshtein/> is unavailable. Install Levenhstein (e.g. `pip install python-Levenshtein`) to suppress this warning.\n",
      "  warnings.warn(msg)\n"
     ]
    },
    {
     "name": "stdout",
     "output_type": "stream",
     "text": [
      "device: cuda\n",
      "preparing data\n"
     ]
    }
   ],
   "source": [
    "import torch\n",
    "import torch.nn as nn\n",
    "import torch.nn.functional as F\n",
    "from torch.utils.data import Dataset, DataLoader\n",
    "from sklearn.model_selection import train_test_split\n",
    "from nltk.tokenize import word_tokenize\n",
    "import gensim\n",
    "import json\n",
    "import os\n",
    "import numpy as np\n",
    "import pandas as pd\n",
    "import matplotlib.pyplot as plt\n",
    "import datetime\n",
    "import time\n",
    "\n",
    "isModeling = True\n",
    "num_experiment = 100\n",
    "num_epoch = 100\n",
    "LSTM_hidden_dim = 128\n",
    "LSTM_num_layer = 3\n",
    "dropout_rate = 0.3\n",
    "lr = 0.05\n",
    "batch_size = 292\n",
    "\n",
    "# data loaderのため\n",
    "torch.manual_seed(0)\n",
    "\n",
    "os.environ['KMP_DUPLICATE_LIB_OK']='True'\n",
    "\n",
    "device = torch.device('cuda') if torch.cuda.is_available() else torch.device('cpu')\n",
    "print(\"device:\", device)\n",
    "\n",
    "if not os.path.isdir('.data'):\n",
    "    os.mkdir('.data')\n",
    "if not os.path.isdir('figs'):\n",
    "    os.mkdir('figs')\n",
    "\n",
    "print('preparing data')\n",
    "w2v_undebiased = gensim.models.KeyedVectors.load_word2vec_format('./GoogleNews-vectors-negative300.bin', binary=True)\n",
    "w2v_debiased = gensim.models.KeyedVectors.load_word2vec_format('./GoogleNews-vectors-negative300-hard-debiased.bin', binary=True)\n",
    "w2v_dim = 300\n",
    "\n",
    "with open('data/squad1.1/train-v1.1.json', encoding='utf-8') as f:\n",
    "    data_dict = json.load(f)\n",
    "\n",
    "max_words_context = 0\n",
    "max_words_question = 0\n",
    "data_idxs = []\n",
    "for i, title in enumerate(data_dict['data']):\n",
    "    for j, paragraph in enumerate(title['paragraphs']):\n",
    "        num_words_context = len(word_tokenize(paragraph['context'].lower()))\n",
    "        if num_words_context > max_words_context:\n",
    "            max_words_context = num_words_context\n",
    "        for k, qa in enumerate(paragraph['qas']):\n",
    "            data_idxs.append(str(i)+'-'+str(j)+'-'+str(k))\n",
    "            num_words_question = len(word_tokenize(qa['question'].lower()))\n",
    "            if num_words_question > max_words_question:\n",
    "                max_words_question = num_words_question\n",
    "train_idxs, test_idxs = train_test_split(data_idxs, test_size=0.2, random_state=0)\n",
    "\n",
    "class MyDataset(Dataset):\n",
    "    def __init__(self,\n",
    "                 data_dict, index_lst,\n",
    "                 max_words_context, max_words_question, w2v_dim,\n",
    "                 w2v_model):\n",
    "        self.data_dict = data_dict\n",
    "        self.index_lst = index_lst\n",
    "        self.num_data = len(index_lst)\n",
    "        self.max_words_context = max_words_context\n",
    "        self.max_words_question = max_words_question\n",
    "        self.w2v_dim = w2v_dim\n",
    "        self.w2v_model = w2v_model\n",
    "\n",
    "    def __len__(self):\n",
    "        return self.num_data\n",
    "\n",
    "    def __getitem__(self, i):\n",
    "        idx = list(map(lambda x: int(x), self.index_lst[i].split('-')))\n",
    "        context = self.data_dict['data'][idx[0]]['paragraphs'][idx[1]]['context']\n",
    "        context = word_tokenize(context.lower())\n",
    "        context_emb = torch.zeros(self.max_words_context, self.w2v_dim)\n",
    "        for i, word in enumerate(context):\n",
    "            if word in self.w2v_model.key_to_index:\n",
    "                context_emb[i] += self.w2v_model[word]\n",
    "        question = self.data_dict['data'][idx[0]]['paragraphs'][idx[1]]['qas'][idx[2]]['question']\n",
    "        question = word_tokenize(question.lower())\n",
    "        question_emb = torch.zeros(self.max_words_question, self.w2v_dim)\n",
    "        for i, word in enumerate(question):\n",
    "            if word in self.w2v_model.key_to_index:\n",
    "                question_emb[i] += self.w2v_model[word]\n",
    "        answer = self.data_dict['data'][idx[0]]['paragraphs'][idx[1]]['qas'][idx[2]]['answers'][0]\n",
    "        context = self.data_dict['data'][idx[0]]['paragraphs'][idx[1]]['context']\n",
    "        context = context[:answer['answer_start']] + ' _start_point_ ' + context[answer['answer_start']:]\n",
    "        context = word_tokenize(context.lower())\n",
    "        start_idx = context.index('_start_point_')\n",
    "        end_idx = start_idx + len(word_tokenize(answer['text'])) - 1\n",
    "        return context_emb, question_emb, start_idx, end_idx\n",
    "\n",
    "# 入力：文書と質問(バッチ数x単語数x分散表現の次元)\n",
    "# 出力：文書の中で答えと予想される範囲の始まりと終わりの分布(バッチ数x単語数)\n",
    "class DocReader(nn.Module):\n",
    "    def __init__(self, input_dim, hidden_dim, num_layer, dropout):\n",
    "        super(DocReader, self).__init__()\n",
    "        self.P_Enc = nn.LSTM(\n",
    "            input_dim, hidden_dim, num_layers=num_layer,\n",
    "            dropout=dropout, bidirectional=True,\n",
    "            batch_first=True\n",
    "        )\n",
    "        self.Q_Enc = nn.LSTM(\n",
    "            input_dim, hidden_dim, num_layers=num_layer,\n",
    "            dropout=dropout, bidirectional=True,\n",
    "            batch_first=True\n",
    "        )\n",
    "        self.Q_AccumWeight = nn.Linear(hidden_dim*2, 1, bias=False)\n",
    "        self.Start_Pred = nn.Linear(hidden_dim*2, hidden_dim*2, bias=False)\n",
    "        self.End_Pred = nn.Linear(hidden_dim*2, hidden_dim*2, bias=False)\n",
    "\n",
    "    def forward(self, p, q):\n",
    "        p, _ = self.P_Enc(p)\n",
    "        q, _ = self.Q_Enc(q)\n",
    "        b = F.softmax(self.Q_AccumWeight(q), dim=1)\n",
    "        q = (q*b).sum(dim=1)\n",
    "        pred_start = torch.einsum('bnm,bm->bn', self.Start_Pred(p), q)\n",
    "        pred_end = torch.einsum('bnm,bm->bn', self.End_Pred(p), q)\n",
    "        return pred_start, pred_end\n",
    "\n",
    "def eval_exact_match(pred_start, pred_end, y_start, y_end):\n",
    "    pred_start = pred_start.max(dim=1).indices\n",
    "    pred_end = pred_end.max(dim=1).indices\n",
    "    match = torch.logical_and(pred_start==y_start, pred_end==y_end)\n",
    "    return match.sum() / len(match)\n",
    "\n",
    "def eval_f1(pred_start, pred_end, y_start, y_end):\n",
    "    pred_start = pred_start.max(dim=1).indices\n",
    "    pred_end = pred_end.max(dim=1).indices\n",
    "    start_diff = pred_start - y_start\n",
    "    start_diff = torch.where(start_diff > 0, start_diff, 0)\n",
    "    end_diff = y_end - pred_end\n",
    "    end_diff = torch.where(end_diff > 0, end_diff, 0)\n",
    "    TP = (y_end - y_start + 1 - start_diff - end_diff).double()\n",
    "    TP = torch.where(TP > 0, TP, 1e-10) # TP=0だとf1がnanになる\n",
    "    recall = TP / (y_end - y_start + 1)\n",
    "    pred_diff = pred_end - pred_start\n",
    "    pred_diff = torch.where(pred_diff > 0, pred_diff, 0)\n",
    "    precision = TP / (pred_diff + 1)\n",
    "    f1 = 2*recall*precision / (recall + precision)\n",
    "    return f1.mean()"
   ]
  },
  {
   "cell_type": "code",
   "execution_count": 2,
   "id": "3f777b1d-925a-4136-9010-0e74c1d7616e",
   "metadata": {},
   "outputs": [],
   "source": [
    "def train(isModeling, train_loader, test_loader, representation):\n",
    "    \n",
    "    time0 = time.time()\n",
    "    \n",
    "    print('{} model'.format(representation))\n",
    "    num_experiment = 1\n",
    "    for experiment in range(num_experiment):\n",
    "        model = DocReader(w2v_dim, LSTM_hidden_dim, LSTM_num_layer, dropout_rate).to(device)\n",
    "        loss_fn = nn.CrossEntropyLoss()\n",
    "        optimizer = torch.optim.Adamax(model.parameters(), lr=lr)\n",
    "\n",
    "        time1 = time.time()\n",
    "        print('prepare:{:.2}'.format(time1 - time0))\n",
    "        print()\n",
    "\n",
    "        for epoch in range(num_epoch):\n",
    "            model.train()\n",
    "            train_loss = 0\n",
    "            \n",
    "            time0 = time.time()\n",
    "            \n",
    "            for X_context, X_question, y_start, y_end in train_loader:\n",
    "                \n",
    "                time1 = time.time()\n",
    "                print('data loading:{:.2}'.format(time1 - time0))\n",
    "                \n",
    "                X_context = X_context.to(device)\n",
    "                X_question = X_question.to(device)\n",
    "                y_start = y_start.to(device)\n",
    "                y_end = y_end.to(device)\n",
    "                \n",
    "                time2 = time.time()\n",
    "                print('data moving:{:.2}'.format(time2 - time1))\n",
    "                \n",
    "                pred_start, pred_end = model(X_context, X_question)\n",
    "                \n",
    "                time3 = time.time()\n",
    "                print('predicting:{:.2}'.format(time3 - time2))\n",
    "                \n",
    "                loss = loss_fn(pred_start, y_start) + loss_fn(pred_end, y_end)\n",
    "                optimizer.zero_grad()\n",
    "                loss.backward()\n",
    "                optimizer.step()\n",
    "                train_loss += loss*len(y_start)\n",
    "                \n",
    "                time4 = time.time()\n",
    "                print('backwarding:{:.2}'.format(time4 - time3))\n",
    "                print()\n",
    "                \n",
    "                time0 = time.time()\n",
    "\n",
    "            train_loss /= len(train_idxs)\n",
    "\n",
    "            model.eval()\n",
    "            eval_loss = 0\n",
    "            em_total = 0\n",
    "            f1_total = 0\n",
    "            with torch.no_grad():\n",
    "                \n",
    "                time0 = time.time()\n",
    "                \n",
    "                for X_context, X_question, y_start, y_end in test_loader:\n",
    "                    \n",
    "                    time1 = time.time()\n",
    "                    print('data loading:{:.2}'.format(time1 - time0))\n",
    "                    \n",
    "                    X_context = X_context.to(device)\n",
    "                    X_question = X_question.to(device)\n",
    "                    y_start = y_start.to(device)\n",
    "                    y_end = y_end.to(device)\n",
    "                    \n",
    "                    time2 = time.time()\n",
    "                    print('data moving:{:.2}'.format(time2 - time1))\n",
    "                    \n",
    "                    pred_start, pred_end = model(X_context, X_question)\n",
    "                    \n",
    "                    time3 = time.time()\n",
    "                    print('predicting:{:.2}'.format(time3 - time2))\n",
    "                    \n",
    "                    loss = loss_fn(pred_start, y_start) + loss_fn(pred_end, y_end)\n",
    "                    eval_loss += loss\n",
    "                    em = eval_exact_match(pred_start, pred_end, y_start, y_end)\n",
    "                    em_total += em\n",
    "                    f1 = eval_f1(pred_start, pred_end, y_start, y_end)\n",
    "                    f1_total += f1\n",
    "                    \n",
    "                    time4 = time.time()\n",
    "                    print('evaluating:{:.2}'.format(time4 - time3))\n",
    "                    print()\n",
    "                    \n",
    "                eval_loss /= len(test_loader)\n",
    "                em_total /= len(test_loader)\n",
    "                f1_total /= len(test_loader)\n",
    "    if isModeling:\n",
    "        return None\n",
    "    else:\n",
    "        return em_scores, f1_scores"
   ]
  },
  {
   "cell_type": "code",
   "execution_count": null,
   "id": "82cba6dd-3d2b-4574-a14f-3e468f2ef16e",
   "metadata": {},
   "outputs": [],
   "source": [
    "num_epoch = 1\n",
    "num_workers = 0\n",
    "udb_train_set = MyDataset(data_dict, train_idxs, max_words_context, max_words_question, w2v_dim, w2v_undebiased)\n",
    "udb_test_set = MyDataset(data_dict, test_idxs, max_words_context, max_words_question, w2v_dim, w2v_undebiased)\n",
    "db_train_set = MyDataset(data_dict, train_idxs, max_words_context, max_words_question, w2v_dim, w2v_debiased)\n",
    "db_test_set = MyDataset(data_dict, test_idxs, max_words_context, max_words_question, w2v_dim, w2v_debiased)\n",
    "udb_train_loader = DataLoader(udb_train_set, batch_size=batch_size, shuffle=True, num_workers=num_workers)\n",
    "udb_test_loader = DataLoader(udb_test_set, batch_size=batch_size, num_workers=num_workers)\n",
    "db_train_loader = DataLoader(udb_train_set, batch_size=batch_size, shuffle=True, num_workers=num_workers)\n",
    "db_test_loader = DataLoader(udb_test_set, batch_size=batch_size, num_workers=num_workers)\n",
    "udb_result = train(isModeling, udb_train_loader, udb_test_loader, 'udb')\n",
    "db_result = train(isModeling, db_train_loader, db_test_loader, 'db')"
   ]
  },
  {
   "cell_type": "code",
   "execution_count": null,
   "id": "f5e64e4c-f924-4f11-a78c-80518986f883",
   "metadata": {},
   "outputs": [
    {
     "name": "stdout",
     "output_type": "stream",
     "text": [
      "udb model\n",
      "prepare:3.8\n",
      "\n"
     ]
    }
   ],
   "source": [
    "num_epoch = 1\n",
    "num_workers = 2\n",
    "udb_train_set = MyDataset(data_dict, train_idxs, max_words_context, max_words_question, w2v_dim, w2v_undebiased)\n",
    "udb_test_set = MyDataset(data_dict, test_idxs, max_words_context, max_words_question, w2v_dim, w2v_undebiased)\n",
    "db_train_set = MyDataset(data_dict, train_idxs, max_words_context, max_words_question, w2v_dim, w2v_debiased)\n",
    "db_test_set = MyDataset(data_dict, test_idxs, max_words_context, max_words_question, w2v_dim, w2v_debiased)\n",
    "udb_train_loader = DataLoader(udb_train_set, batch_size=batch_size, shuffle=True, num_workers=num_workers)\n",
    "udb_test_loader = DataLoader(udb_test_set, batch_size=batch_size, num_workers=num_workers)\n",
    "db_train_loader = DataLoader(udb_train_set, batch_size=batch_size, shuffle=True, num_workers=num_workers)\n",
    "db_test_loader = DataLoader(udb_test_set, batch_size=batch_size, num_workers=num_workers)\n",
    "udb_result = train(isModeling, udb_train_loader, udb_test_loader, 'udb')\n",
    "db_result = train(isModeling, db_train_loader, db_test_loader, 'db')"
   ]
  },
  {
   "cell_type": "code",
   "execution_count": 3,
   "id": "1cb2359d-afe5-4006-8d2b-215ff1354bd9",
   "metadata": {},
   "outputs": [],
   "source": [
    "import torch\n",
    "context = torch.zeros(18896, 707, 300, dtype=float)\n",
    "question = torch.zeros(87599, 43, 30, dtype=float)"
   ]
  },
  {
   "cell_type": "code",
   "execution_count": 4,
   "id": "9e853b76-0aec-42e0-b3df-0df2ae50f480",
   "metadata": {},
   "outputs": [
    {
     "data": {
      "text/plain": [
       "74.991025775671"
      ]
     },
     "execution_count": 4,
     "metadata": {},
     "output_type": "execute_result"
    }
   ],
   "source": [
    "80521000800 / (1024*1024*1024)"
   ]
  },
  {
   "cell_type": "code",
   "execution_count": 10,
   "id": "0299935e-f03d-4cf3-96a6-ae24366612dd",
   "metadata": {},
   "outputs": [
    {
     "data": {
      "text/plain": [
       "18896"
      ]
     },
     "execution_count": 10,
     "metadata": {},
     "output_type": "execute_result"
    }
   ],
   "source": [
    "import json\n",
    "with open('data/squad1.1/train-v1.1.json', encoding='utf-8') as f:\n",
    "    data_dict = json.load(f)\n",
    "count = 0\n",
    "for i, title in enumerate(data_dict['data']):\n",
    "    for j, paragraph in enumerate(title['paragraphs']):\n",
    "        count += 1\n",
    "count"
   ]
  },
  {
   "cell_type": "code",
   "execution_count": 1,
   "id": "b2df7a93-5793-42bf-b090-46ea22329983",
   "metadata": {},
   "outputs": [],
   "source": [
    "import json\n",
    "from nltk.tokenize import word_tokenize\n",
    "with open('data/squad1.1/train-v1.1.json', encoding='utf-8') as f:\n",
    "    data_dict = json.load(f)\n",
    "max_words_context = 0\n",
    "max_words_question = 0\n",
    "for i, title in enumerate(data_dict['data']):\n",
    "    for j, paragraph in enumerate(title['paragraphs']):\n",
    "        context = word_tokenize(paragraph['context'].lower())\n",
    "        context = [word for word in context if word not in [',', '.']]\n",
    "        num_words_context = len(context)\n",
    "        if num_words_context > max_words_context:\n",
    "            max_words_context = num_words_context\n",
    "        for k, qa in enumerate(paragraph['qas']):\n",
    "            question = word_tokenize(qa['question'].lower())\n",
    "            question = [word for word in question if word not in [',', '.']]\n",
    "            num_words_question = len(question)\n",
    "            if num_words_question > max_words_question:\n",
    "                max_words_question = num_words_question"
   ]
  },
  {
   "cell_type": "code",
   "execution_count": 2,
   "id": "bfc35050-26bf-4096-984e-b4ecb4afad02",
   "metadata": {},
   "outputs": [
    {
     "name": "stdout",
     "output_type": "stream",
     "text": [
      "707 43\n"
     ]
    }
   ],
   "source": [
    "print(max_words_context, max_words_question)"
   ]
  },
  {
   "cell_type": "markdown",
   "id": "d4620de7-5b27-410c-b816-fdd6513cc6ca",
   "metadata": {},
   "source": [
    "# データの準備, モデルの作成"
   ]
  },
  {
   "cell_type": "code",
   "execution_count": 25,
   "id": "26baf1f4-c0db-4f8e-88d2-422d513516ef",
   "metadata": {},
   "outputs": [],
   "source": [
    "import json\n",
    "import gensim\n",
    "from nltk.tokenize import word_tokenize, sent_tokenize\n",
    "import torch\n",
    "import torch.nn as nn\n",
    "import torch.nn.functional as F"
   ]
  },
  {
   "cell_type": "code",
   "execution_count": 2,
   "id": "17c584a9-c0a2-4a6a-b28c-6263e82f8d79",
   "metadata": {},
   "outputs": [],
   "source": [
    "task = 'undebiased'\n",
    "w2v_dim = 300"
   ]
  },
  {
   "cell_type": "code",
   "execution_count": 3,
   "id": "8fe255ff-f49e-45ad-ba7c-0f58413115d8",
   "metadata": {},
   "outputs": [],
   "source": [
    "with open('data/squad1.1/train-v1.1.json', encoding='utf-8') as f:\n",
    "    data_dict = json.load(f)\n",
    "if task == 'undebiased':\n",
    "    w2v_model = gensim.models.KeyedVectors.load_word2vec_format(\n",
    "        './data/GoogleNews-vectors-negative300.bin', binary=True\n",
    "    )\n",
    "elif task == 'debiased':\n",
    "    w2v_model = gensim.models.KeyedVectors.load_word2vec_format(\n",
    "        './data/GoogleNews-vectors-negative300-hard-debiased.bin', binary=True\n",
    "    )"
   ]
  },
  {
   "cell_type": "code",
   "execution_count": 4,
   "id": "459d0e0e-2ac1-4931-a80e-ac03bc593d92",
   "metadata": {},
   "outputs": [],
   "source": [
    "max_num_sentence = 0\n",
    "num_context = 0\n",
    "num_question = 0\n",
    "for title in data_dict['data']:\n",
    "    for paragraph in title['paragraphs']:\n",
    "        num_context += 1\n",
    "        num_sentence = len(sent_tokenize(paragraph['context']))\n",
    "        if num_sentence > max_num_sentence:\n",
    "            max_num_sentence = num_sentence\n",
    "        for qa in paragraph['qas']:\n",
    "            num_question += 1"
   ]
  },
  {
   "cell_type": "code",
   "execution_count": 35,
   "id": "ef4e35d9-c1d0-4b7a-99ed-c9fbc996ceb9",
   "metadata": {},
   "outputs": [
    {
     "name": "stdout",
     "output_type": "stream",
     "text": [
      "27 18896 87599\n"
     ]
    }
   ],
   "source": [
    "print(max_num_sentence, num_context, num_question)"
   ]
  },
  {
   "cell_type": "code",
   "execution_count": 65,
   "id": "1b8ffd1e-facf-484c-9c89-e4a3c9348197",
   "metadata": {},
   "outputs": [
    {
     "data": {
      "text/plain": [
       "70079.2"
      ]
     },
     "execution_count": 65,
     "metadata": {},
     "output_type": "execute_result"
    }
   ],
   "source": [
    "87599*0.8"
   ]
  },
  {
   "cell_type": "code",
   "execution_count": 5,
   "id": "d727e340-1726-4845-a94a-57879eb1f73d",
   "metadata": {
    "tags": []
   },
   "outputs": [],
   "source": [
    "questions = torch.zeros(num_question, 300)\n",
    "contexts = torch.zeros(num_context, max_num_sentence, 300)\n",
    "context_idxs = []\n",
    "answers = []\n",
    "context_id = 0\n",
    "question_id = 0\n",
    "for title in data_dict['data']:\n",
    "    for paragraph in title['paragraphs']:\n",
    "        sentences = sent_tokenize(paragraph['context'])\n",
    "        for i, sentence in enumerate(sentences):\n",
    "            words = [word for word in word_tokenize(sentence.lower()) if word in w2v_model.key_to_index]\n",
    "            if len(words) > 0:\n",
    "                contexts[context_id, i] += w2v_model[words].mean(axis=0)\n",
    "            else:\n",
    "                contexts[context_id, i] += torch.zeros(300)\n",
    "        context_id += 1\n",
    "        for qa in paragraph['qas']:\n",
    "            questions[question_id] += w2v_model[[word for word in word_tokenize(qa['question'].lower()) if word in w2v_model.key_to_index]].mean(axis=0)\n",
    "            question_id += 1\n",
    "            answer = qa['answers'][0]\n",
    "            context = paragraph['context']\n",
    "            context = context[:answer['answer_start']] + '_answer_tag_' + context[answer['answer_start']:]\n",
    "            sentences = sent_tokenize(context)\n",
    "            for sentence in sentences:\n",
    "                if '_answer_tag_' in sentence:\n",
    "                    answers.append(sentences.index(sentence))\n",
    "            context_idxs.append(context_id)"
   ]
  },
  {
   "cell_type": "code",
   "execution_count": 54,
   "id": "085ca3ab-54da-4233-b070-746a82d97724",
   "metadata": {},
   "outputs": [],
   "source": [
    "question = questions[:5]\n",
    "context = torch.stack([contexts[i] for i in context_idxs[:5]])"
   ]
  },
  {
   "cell_type": "code",
   "execution_count": 62,
   "id": "d6f24827-3f3c-4be4-ab4c-ec05c4c47ca4",
   "metadata": {},
   "outputs": [],
   "source": [
    "class QAModel2(nn.Module):\n",
    "    def __init__(self, w2v_dim, hid1, hid2, hid3, num_sentence):\n",
    "        super(QAModel2, self).__init__()\n",
    "        self.ln1 = nn.Linear(w2v_dim*2, hid1)\n",
    "        self.ln2 = nn.Linear(hid1, hid2)\n",
    "        self.ln3 = nn.Linear(hid2, hid3)\n",
    "        self.ln4 = nn.Linear(hid3, 1)\n",
    "        self.num_sentence = num_sentence\n",
    "    \n",
    "    def forward(self, q, s, batch_size):\n",
    "        print(q.shape, s.shape)\n",
    "        q = torch.stack([q for _ in range(self.num_sentence)], dim=1)\n",
    "        print(q.shape, s.shape)\n",
    "        x = torch.cat((q, s), dim=2)\n",
    "        print(x.shape)\n",
    "        x = self.ln1(x)\n",
    "        print(x.shape)\n",
    "        x = F.relu(x)\n",
    "        x = self.ln2(x)\n",
    "        print(x.shape)\n",
    "        x = F.relu(x)\n",
    "        x = self.ln3(x)\n",
    "        print(x.shape)\n",
    "        x = F.relu(x)\n",
    "        x = self.ln4(x)\n",
    "        print(x.shape)\n",
    "        x = x.view(batch_size, -1)\n",
    "        print(x.shape)\n",
    "        return x"
   ]
  },
  {
   "cell_type": "code",
   "execution_count": 63,
   "id": "b30b14aa-3d2b-4eaf-9bfa-e1aaa896e5d2",
   "metadata": {},
   "outputs": [
    {
     "name": "stdout",
     "output_type": "stream",
     "text": [
      "torch.Size([5, 300]) torch.Size([5, 27, 300])\n",
      "torch.Size([5, 27, 300]) torch.Size([5, 27, 300])\n",
      "torch.Size([5, 27, 600])\n",
      "torch.Size([5, 27, 300])\n",
      "torch.Size([5, 27, 100])\n",
      "torch.Size([5, 27, 10])\n",
      "torch.Size([5, 27, 1])\n",
      "torch.Size([5, 27])\n"
     ]
    },
    {
     "data": {
      "text/plain": [
       "tensor([[-0.2680, -0.2677, -0.2679, -0.2679, -0.2662, -0.2680, -0.2680, -0.2681,\n",
       "         -0.2683, -0.2685, -0.2683, -0.2683, -0.2683, -0.2683, -0.2683, -0.2683,\n",
       "         -0.2683, -0.2683, -0.2683, -0.2683, -0.2683, -0.2683, -0.2683, -0.2683,\n",
       "         -0.2683, -0.2683, -0.2683],\n",
       "        [-0.2674, -0.2667, -0.2672, -0.2672, -0.2652, -0.2674, -0.2673, -0.2675,\n",
       "         -0.2676, -0.2678, -0.2678, -0.2673, -0.2673, -0.2673, -0.2673, -0.2673,\n",
       "         -0.2673, -0.2673, -0.2673, -0.2673, -0.2673, -0.2673, -0.2673, -0.2673,\n",
       "         -0.2673, -0.2673, -0.2673],\n",
       "        [-0.2667, -0.2657, -0.2661, -0.2666, -0.2639, -0.2665, -0.2663, -0.2666,\n",
       "         -0.2669, -0.2671, -0.2668, -0.2665, -0.2665, -0.2665, -0.2665, -0.2665,\n",
       "         -0.2665, -0.2665, -0.2665, -0.2665, -0.2665, -0.2665, -0.2665, -0.2665,\n",
       "         -0.2665, -0.2665, -0.2665],\n",
       "        [-0.2666, -0.2658, -0.2663, -0.2666, -0.2646, -0.2670, -0.2664, -0.2666,\n",
       "         -0.2670, -0.2670, -0.2672, -0.2664, -0.2664, -0.2664, -0.2664, -0.2664,\n",
       "         -0.2664, -0.2664, -0.2664, -0.2664, -0.2664, -0.2664, -0.2664, -0.2664,\n",
       "         -0.2664, -0.2664, -0.2664],\n",
       "        [-0.2670, -0.2662, -0.2670, -0.2670, -0.2649, -0.2673, -0.2670, -0.2673,\n",
       "         -0.2676, -0.2676, -0.2677, -0.2668, -0.2668, -0.2668, -0.2668, -0.2668,\n",
       "         -0.2668, -0.2668, -0.2668, -0.2668, -0.2668, -0.2668, -0.2668, -0.2668,\n",
       "         -0.2668, -0.2668, -0.2668]], grad_fn=<ViewBackward>)"
      ]
     },
     "execution_count": 63,
     "metadata": {},
     "output_type": "execute_result"
    }
   ],
   "source": [
    "model = QAModel2(300, 300, 100, 10, max_num_sentence)\n",
    "model(question, context, 5)"
   ]
  },
  {
   "cell_type": "code",
   "execution_count": 32,
   "id": "d9752a99-f926-469f-8ca7-1343a94e739a",
   "metadata": {},
   "outputs": [],
   "source": [
    "class QAModel1(nn.Module):\n",
    "    def __init__(self, w2v_dim, hid1, hid2, num_sentence, hid3):\n",
    "        super(QAModel1, self).__init__()\n",
    "        self.QEnc1 = nn.Linear(w2v_dim, hid1)\n",
    "        self.QEnc2 = nn.Linear(hid1, hid2)\n",
    "        self.SEnc1 = nn.Linear(w2v_dim, hid1)\n",
    "        self.SEnc2 = nn.Linear(hid1, hid2)\n",
    "        self.Classifier1 = nn.Linear(hid2*(1+num_sentence), hid3)\n",
    "        self.Classifier2 = nn.Linear(hid3, num_sentence)\n",
    "    \n",
    "    def forward(self, q, s, batch_size):\n",
    "        print(q.shape, s.shape)\n",
    "        q = self.QEnc1(q)\n",
    "        print(q.shape, s.shape)\n",
    "        q = F.relu(q)\n",
    "        q = self.QEnc2(q)\n",
    "        print(q.shape, s.shape)\n",
    "        s = self.SEnc1(s)\n",
    "        print(q.shape, s.shape)\n",
    "        s = F.relu(s)\n",
    "        s = self.SEnc2(s)\n",
    "        print(q.shape, s.shape)\n",
    "        x = torch.cat((q, s.view(batch_size, -1)), dim=1)\n",
    "        print(x.shape)\n",
    "        x = self.Classifier1(x)\n",
    "        print(x.shape)\n",
    "        x = F.relu(x)\n",
    "        x = self.Classifier2(x)\n",
    "        print(x.shape)\n",
    "        return x"
   ]
  },
  {
   "cell_type": "code",
   "execution_count": 33,
   "id": "174f06e1-6e4b-420d-b6ba-d3ecf2d9b1f6",
   "metadata": {},
   "outputs": [
    {
     "name": "stdout",
     "output_type": "stream",
     "text": [
      "torch.Size([5, 300]) torch.Size([5, 27, 300])\n",
      "torch.Size([5, 100]) torch.Size([5, 27, 300])\n",
      "torch.Size([5, 10]) torch.Size([5, 27, 300])\n",
      "torch.Size([5, 10]) torch.Size([5, 27, 100])\n",
      "torch.Size([5, 10]) torch.Size([5, 27, 10])\n",
      "torch.Size([5, 280])\n",
      "torch.Size([5, 100])\n",
      "torch.Size([5, 27])\n"
     ]
    },
    {
     "data": {
      "text/plain": [
       "tensor([[-0.0701,  0.0847,  0.0458, -0.0125,  0.1104,  0.0637,  0.0051,  0.0331,\n",
       "         -0.0656,  0.0537,  0.0745,  0.0616,  0.0126,  0.0492, -0.1082, -0.0651,\n",
       "          0.0232, -0.0216, -0.0901,  0.0786, -0.0518,  0.0276, -0.0202,  0.0520,\n",
       "          0.0231,  0.0904, -0.0598],\n",
       "        [-0.0705,  0.0853,  0.0458, -0.0125,  0.1107,  0.0636,  0.0055,  0.0326,\n",
       "         -0.0656,  0.0540,  0.0747,  0.0629,  0.0126,  0.0499, -0.1085, -0.0654,\n",
       "          0.0237, -0.0211, -0.0894,  0.0795, -0.0539,  0.0276, -0.0189,  0.0520,\n",
       "          0.0224,  0.0905, -0.0603],\n",
       "        [-0.0710,  0.0853,  0.0463, -0.0128,  0.1106,  0.0632,  0.0051,  0.0326,\n",
       "         -0.0659,  0.0538,  0.0750,  0.0631,  0.0126,  0.0495, -0.1082, -0.0655,\n",
       "          0.0232, -0.0210, -0.0895,  0.0792, -0.0527,  0.0281, -0.0195,  0.0521,\n",
       "          0.0225,  0.0904, -0.0604],\n",
       "        [-0.0710,  0.0853,  0.0462, -0.0126,  0.1109,  0.0631,  0.0052,  0.0326,\n",
       "         -0.0662,  0.0538,  0.0752,  0.0634,  0.0127,  0.0499, -0.1082, -0.0654,\n",
       "          0.0234, -0.0205, -0.0896,  0.0796, -0.0535,  0.0279, -0.0189,  0.0519,\n",
       "          0.0223,  0.0904, -0.0604],\n",
       "        [-0.0704,  0.0854,  0.0460, -0.0128,  0.1106,  0.0634,  0.0056,  0.0324,\n",
       "         -0.0657,  0.0541,  0.0748,  0.0631,  0.0126,  0.0498, -0.1082, -0.0654,\n",
       "          0.0238, -0.0209, -0.0894,  0.0795, -0.0540,  0.0279, -0.0187,  0.0520,\n",
       "          0.0223,  0.0907, -0.0606]], grad_fn=<AddmmBackward>)"
      ]
     },
     "execution_count": 33,
     "metadata": {},
     "output_type": "execute_result"
    }
   ],
   "source": [
    "model = QAModel1(300, 100, 10, max_num_sentence, 100)\n",
    "model(question, context, 5)"
   ]
  },
  {
   "cell_type": "code",
   "execution_count": 15,
   "id": "14885e7b-65c6-4fe6-91c8-3fbdd5d9681e",
   "metadata": {
    "tags": []
   },
   "outputs": [
    {
     "data": {
      "text/plain": [
       "(300,)"
      ]
     },
     "execution_count": 15,
     "metadata": {},
     "output_type": "execute_result"
    }
   ],
   "source": [
    "lst = ['this', 'is', 'a', 'pen', '.']\n",
    "w2v_model[[word for word in lst if word in w2v_model.key_to_index]].mean(axis=0).shape"
   ]
  },
  {
   "cell_type": "code",
   "execution_count": 29,
   "id": "c16c8cfe-425c-45e1-9f36-66c9698ae920",
   "metadata": {},
   "outputs": [
    {
     "data": {
      "text/plain": [
       "0"
      ]
     },
     "execution_count": 29,
     "metadata": {},
     "output_type": "execute_result"
    }
   ],
   "source": [
    "lst = ['aaa', 'bbb', 'ccc']\n",
    "lst.index('aaa')"
   ]
  },
  {
   "cell_type": "code",
   "execution_count": 44,
   "id": "fdf6e5c7-a4cd-441e-af1d-0009e31d09a6",
   "metadata": {},
   "outputs": [
    {
     "data": {
      "text/plain": [
       "tensor([[-0.0064, -0.6183, -0.1550,  0.4980],\n",
       "        [-0.5288,  0.6372,  0.0337, -0.1819],\n",
       "        [ 0.6930, -0.7820, -0.1539,  0.7243]], grad_fn=<AddmmBackward>)"
      ]
     },
     "execution_count": 44,
     "metadata": {},
     "output_type": "execute_result"
    }
   ],
   "source": [
    "tmp = torch.randn(3,5)\n",
    "ln = torch.nn.Linear(5,4)\n",
    "ln(tmp)"
   ]
  },
  {
   "cell_type": "code",
   "execution_count": 45,
   "id": "f67249cb-d91f-46f9-9214-e4f12f45d2a8",
   "metadata": {},
   "outputs": [
    {
     "data": {
      "text/plain": [
       "tensor([ 0.0498,  0.2941, -0.0307,  0.3501], grad_fn=<AddBackward0>)"
      ]
     },
     "execution_count": 45,
     "metadata": {},
     "output_type": "execute_result"
    }
   ],
   "source": [
    "tmp = torch.randn(5)\n",
    "ln = torch.nn.Linear(5,4)\n",
    "ln(tmp)"
   ]
  },
  {
   "cell_type": "code",
   "execution_count": 58,
   "id": "146bb0e3-9f09-4a45-ab53-09941dd9aa0a",
   "metadata": {},
   "outputs": [
    {
     "name": "stdout",
     "output_type": "stream",
     "text": [
      "tensor([[-0.8205, -2.3091],\n",
      "        [-1.6800, -4.5780]], grad_fn=<AddmmBackward>)\n",
      "tensor([[-0.8205],\n",
      "        [-2.3091],\n",
      "        [-1.6800],\n",
      "        [-4.5780]], grad_fn=<ViewBackward>)\n",
      "tensor([-0.8205, -2.3091, -1.6800, -4.5780,  7.0000,  8.0000,  9.0000],\n",
      "       grad_fn=<CatBackward>)\n"
     ]
    }
   ],
   "source": [
    "tmp = torch.tensor([[1.,2.,3.],[4.,5.,6.]])\n",
    "tmp_ = torch.tensor([7.,8.,9.])\n",
    "ln = torch.nn.Linear(3,2)\n",
    "print(ln(tmp))\n",
    "print(ln(tmp).view(-1, 1))\n",
    "print(torch.cat((ln(tmp).view(-1), tmp_), dim=0))"
   ]
  },
  {
   "cell_type": "code",
   "execution_count": 65,
   "id": "5a5b072c-b676-4f74-a4bb-8779024177cd",
   "metadata": {},
   "outputs": [
    {
     "name": "stdout",
     "output_type": "stream",
     "text": [
      "tensor([[[-0.4548,  0.4365,  1.5742, -0.4050],\n",
      "         [-0.2412, -1.0823, -0.5030, -0.1549],\n",
      "         [-0.2878, -0.3213, -0.2747, -0.3449]],\n",
      "\n",
      "        [[ 0.4737,  0.2805,  0.3462,  0.5088],\n",
      "         [-0.8210,  1.9877,  0.3140,  2.5739],\n",
      "         [-0.2093, -0.8281, -0.2384, -0.9966]]])\n",
      "tensor([[-0.4548,  0.4365,  1.5742, -0.4050, -0.2412, -1.0823, -0.5030, -0.1549,\n",
      "         -0.2878, -0.3213, -0.2747, -0.3449],\n",
      "        [ 0.4737,  0.2805,  0.3462,  0.5088, -0.8210,  1.9877,  0.3140,  2.5739,\n",
      "         -0.2093, -0.8281, -0.2384, -0.9966]])\n"
     ]
    }
   ],
   "source": [
    "tmp = torch.randn(2,3,4)\n",
    "print(tmp)\n",
    "print(tmp.reshape(2, -1))"
   ]
  },
  {
   "cell_type": "code",
   "execution_count": 67,
   "id": "57492320-0e2d-4f41-b276-c07bd78fffea",
   "metadata": {},
   "outputs": [
    {
     "data": {
      "text/plain": [
       "tensor([[ 0.3788,  1.4626, -1.4232,  0.7177,  0.8226,  1.7125],\n",
       "        [ 0.2577,  0.3597, -0.5616,  0.0729,  0.4379, -1.1221]])"
      ]
     },
     "execution_count": 67,
     "metadata": {},
     "output_type": "execute_result"
    }
   ],
   "source": [
    "tmp1 = torch.randn(2,3)\n",
    "tmp2 = torch.randn(2,3)\n",
    "torch.cat((tmp1, tmp2), dim=1)"
   ]
  },
  {
   "cell_type": "code",
   "execution_count": 46,
   "id": "9517a7a6-bba9-4b18-8d6c-6dbce34fe120",
   "metadata": {},
   "outputs": [
    {
     "data": {
      "text/plain": [
       "tensor([[[ 1.0267,  1.0830,  1.6508, -0.2290, -0.2771],\n",
       "         [ 1.0267,  1.0830,  1.6508, -0.2290, -0.2771],\n",
       "         [ 1.0267,  1.0830,  1.6508, -0.2290, -0.2771],\n",
       "         [ 1.0267,  1.0830,  1.6508, -0.2290, -0.2771]],\n",
       "\n",
       "        [[-0.1283, -0.0267, -0.1863,  0.6343, -0.4826],\n",
       "         [-0.1283, -0.0267, -0.1863,  0.6343, -0.4826],\n",
       "         [-0.1283, -0.0267, -0.1863,  0.6343, -0.4826],\n",
       "         [-0.1283, -0.0267, -0.1863,  0.6343, -0.4826]],\n",
       "\n",
       "        [[ 0.3379,  0.2892,  0.7654, -0.0264, -1.0259],\n",
       "         [ 0.3379,  0.2892,  0.7654, -0.0264, -1.0259],\n",
       "         [ 0.3379,  0.2892,  0.7654, -0.0264, -1.0259],\n",
       "         [ 0.3379,  0.2892,  0.7654, -0.0264, -1.0259]]])"
      ]
     },
     "execution_count": 46,
     "metadata": {},
     "output_type": "execute_result"
    }
   ],
   "source": [
    "tmp = torch.randn(3,5)\n",
    "tmp = torch.stack([tmp for i in range(4)], dim=1)\n",
    "tmp"
   ]
  },
  {
   "cell_type": "code",
   "execution_count": 47,
   "id": "c3bb2644-73b4-44ed-b7be-3a0f53a66ac1",
   "metadata": {},
   "outputs": [
    {
     "data": {
      "text/plain": [
       "tensor([[[ 1.1476,  0.8880,  0.4228, -1.4989, -0.6753],\n",
       "         [-1.9026, -0.1777,  1.5500,  1.3007,  0.6102],\n",
       "         [ 1.8626, -0.3656,  0.7621,  1.8038, -0.9714],\n",
       "         [-0.2793, -0.0034,  0.2644, -0.9639, -0.6296]],\n",
       "\n",
       "        [[-1.5686,  0.7946, -0.1522,  0.4611,  2.0914],\n",
       "         [ 0.6665,  0.0947, -0.2189,  0.1624,  1.6970],\n",
       "         [ 0.0466, -0.2103,  0.2228,  0.4168,  0.6527],\n",
       "         [ 0.2106, -0.1313,  0.7137, -0.3999, -1.2237]],\n",
       "\n",
       "        [[-1.0784,  0.6409, -0.4571,  0.7020,  1.0462],\n",
       "         [ 0.3668, -0.1541,  1.1270,  0.7282,  0.0456],\n",
       "         [ 2.7532,  0.1541,  0.5247,  1.1851, -0.8798],\n",
       "         [ 0.5988, -1.5035, -3.3389,  0.4964,  0.5917]]])"
      ]
     },
     "execution_count": 47,
     "metadata": {},
     "output_type": "execute_result"
    }
   ],
   "source": [
    "tmp_ = torch.randn(3,4,5)\n",
    "tmp_"
   ]
  },
  {
   "cell_type": "code",
   "execution_count": 52,
   "id": "281fb101-cc1a-4379-854d-fba808157411",
   "metadata": {},
   "outputs": [
    {
     "data": {
      "text/plain": [
       "tensor([[[ 1.0267,  1.0830,  1.6508, -0.2290, -0.2771,  1.1476,  0.8880,\n",
       "           0.4228, -1.4989, -0.6753],\n",
       "         [ 1.0267,  1.0830,  1.6508, -0.2290, -0.2771, -1.9026, -0.1777,\n",
       "           1.5500,  1.3007,  0.6102],\n",
       "         [ 1.0267,  1.0830,  1.6508, -0.2290, -0.2771,  1.8626, -0.3656,\n",
       "           0.7621,  1.8038, -0.9714],\n",
       "         [ 1.0267,  1.0830,  1.6508, -0.2290, -0.2771, -0.2793, -0.0034,\n",
       "           0.2644, -0.9639, -0.6296]],\n",
       "\n",
       "        [[-0.1283, -0.0267, -0.1863,  0.6343, -0.4826, -1.5686,  0.7946,\n",
       "          -0.1522,  0.4611,  2.0914],\n",
       "         [-0.1283, -0.0267, -0.1863,  0.6343, -0.4826,  0.6665,  0.0947,\n",
       "          -0.2189,  0.1624,  1.6970],\n",
       "         [-0.1283, -0.0267, -0.1863,  0.6343, -0.4826,  0.0466, -0.2103,\n",
       "           0.2228,  0.4168,  0.6527],\n",
       "         [-0.1283, -0.0267, -0.1863,  0.6343, -0.4826,  0.2106, -0.1313,\n",
       "           0.7137, -0.3999, -1.2237]],\n",
       "\n",
       "        [[ 0.3379,  0.2892,  0.7654, -0.0264, -1.0259, -1.0784,  0.6409,\n",
       "          -0.4571,  0.7020,  1.0462],\n",
       "         [ 0.3379,  0.2892,  0.7654, -0.0264, -1.0259,  0.3668, -0.1541,\n",
       "           1.1270,  0.7282,  0.0456],\n",
       "         [ 0.3379,  0.2892,  0.7654, -0.0264, -1.0259,  2.7532,  0.1541,\n",
       "           0.5247,  1.1851, -0.8798],\n",
       "         [ 0.3379,  0.2892,  0.7654, -0.0264, -1.0259,  0.5988, -1.5035,\n",
       "          -3.3389,  0.4964,  0.5917]]])"
      ]
     },
     "execution_count": 52,
     "metadata": {},
     "output_type": "execute_result"
    }
   ],
   "source": [
    "torch.cat((tmp, tmp_), dim=2)"
   ]
  },
  {
   "cell_type": "code",
   "execution_count": 1,
   "id": "692ff1a8-95f7-4e9c-b75a-817633808136",
   "metadata": {},
   "outputs": [],
   "source": [
    "import pandas as pd\n",
    "task = 'undebiased'\n",
    "df = pd.read_csv('outputs/QA_label_index_{}.csv'.format(task))\n",
    "answers = list(df['answers'])\n",
    "context_idxs = list(df['context_idxs'])"
   ]
  },
  {
   "cell_type": "code",
   "execution_count": null,
   "id": "afb10b17-8f46-4102-8612-0b91af7a1812",
   "metadata": {},
   "outputs": [],
   "source": []
  }
 ],
 "metadata": {
  "kernelspec": {
   "display_name": "Python 3",
   "language": "python",
   "name": "python3"
  },
  "language_info": {
   "codemirror_mode": {
    "name": "ipython",
    "version": 3
   },
   "file_extension": ".py",
   "mimetype": "text/x-python",
   "name": "python",
   "nbconvert_exporter": "python",
   "pygments_lexer": "ipython3",
   "version": "3.8.10"
  }
 },
 "nbformat": 4,
 "nbformat_minor": 5
}
