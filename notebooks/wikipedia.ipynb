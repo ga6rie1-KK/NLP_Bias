{
 "cells": [
  {
   "cell_type": "markdown",
   "metadata": {},
   "source": [
    "- emp04sep2018.xls\n",
    "    - link:https://www.ons.gov.uk/employmentandlabourmarket/peopleinwork/employmentandemployeetypes/datasets/employmentbyoccupationemp04\n",
    "- Occupation Data.xlsx\n",
    "    - link:https://www.onetcenter.org/database.html#overview\n",
    "- wiki\n",
    "    - link:https://en.wikipedia.org/wiki/Lists_of_occupations\n",
    "- \n",
    "    - link:\n",
    "- \n",
    "    - link:"
   ]
  },
  {
   "cell_type": "code",
   "execution_count": 1,
   "metadata": {},
   "outputs": [],
   "source": [
    "import requests\n",
    "import bs4\n",
    "from IPython.display import clear_output"
   ]
  },
  {
   "cell_type": "code",
   "execution_count": 13,
   "metadata": {},
   "outputs": [],
   "source": [
    "job_lst = []"
   ]
  },
  {
   "cell_type": "code",
   "execution_count": 3,
   "metadata": {},
   "outputs": [],
   "source": [
    "def find_li(link):\n",
    "    r = requests.get(link)\n",
    "    soup = bs4.BeautifulSoup(r.text, \"html.parser\")\n",
    "    div_tag = soup.find('div', class_='mw-parser-output')\n",
    "    return div_tag.find_all('li')"
   ]
  },
  {
   "cell_type": "code",
   "execution_count": 4,
   "metadata": {},
   "outputs": [],
   "source": [
    "top_page = 'https://en.wikipedia.org/wiki/Lists_of_occupations'\n",
    "li_tags = find_li(top_page)\n",
    "sub_page_list = []\n",
    "for li_tag in li_tags:\n",
    "    text = li_tag.getText()\n",
    "    if 'List of' in text:\n",
    "        a_tag = li_tag.find('a')\n",
    "        href = a_tag['href']\n",
    "        sub_page_list.append('https://en.wikipedia.org' + href)"
   ]
  },
  {
   "cell_type": "code",
   "execution_count": 14,
   "metadata": {},
   "outputs": [
    {
     "name": "stdout",
     "output_type": "stream",
     "text": [
      "0 Chief Administrative Officer (CAO) - A top-tier executive who supervises the daily operations of a business and is ultimately responsible for its performance.\n",
      "1 Chief Analytics Officer (CAO) - The senior manager responsible for the analysis of data within an organization.\n",
      "2 Chief Brand Officer (CBO) - Officer responsible for a brand's image, experience, and promise.\n",
      "3 Chief Business Development Officer (CBDO) -  Identifies new opportunities for the corporation and develops strategies to pursue those opportunities.\n",
      "4 Chief Business Officer (CBO) - A position that allocates a company’s resources to meet strategic and financial goals.\n",
      "5 Chief Commercial Officer (CCO) - Officer responsible for the commercial strategy and the development of an organization.\n",
      "6 Chief Communications Officer (CCO) - The head of communications, public relations, and/or public affairs in an organization.\n",
      "7 Chief Compliance Officer (CCO) - Person primarily responsible for overseeing and managing regulatory compliance issues within an organization.\n",
      "8 Chief Creative Officer (CCO) - Officer who directs a company's creative output, developing the artistic design strategy that defines the company's brand.\n",
      "9 Chief Content Officer (CCO) - Responsible for the digital media creation and multi-channel publication of the organization's content (text, video, audio, animation, etc.).\n",
      "消したいidをカンマ区切りで入力\n"
     ]
    },
    {
     "ename": "KeyboardInterrupt",
     "evalue": "Interrupted by user",
     "output_type": "error",
     "traceback": [
      "\u001b[1;31m---------------------------------------------------------------------------\u001b[0m",
      "\u001b[1;31mKeyboardInterrupt\u001b[0m                         Traceback (most recent call last)",
      "\u001b[1;32m<ipython-input-14-c290a8a2e56a>\u001b[0m in \u001b[0;36m<module>\u001b[1;34m\u001b[0m\n\u001b[0;32m     16\u001b[0m         \u001b[1;32mif\u001b[0m \u001b[0mi\u001b[0m\u001b[1;33m%\u001b[0m\u001b[1;36m10\u001b[0m \u001b[1;33m==\u001b[0m \u001b[1;36m9\u001b[0m \u001b[1;32mor\u001b[0m \u001b[0mi\u001b[0m \u001b[1;33m==\u001b[0m \u001b[0mlen\u001b[0m\u001b[1;33m(\u001b[0m\u001b[0mcandidates\u001b[0m\u001b[1;33m)\u001b[0m\u001b[1;33m-\u001b[0m\u001b[1;36m1\u001b[0m\u001b[1;33m:\u001b[0m\u001b[1;33m\u001b[0m\u001b[1;33m\u001b[0m\u001b[0m\n\u001b[0;32m     17\u001b[0m             \u001b[0mprint\u001b[0m\u001b[1;33m(\u001b[0m\u001b[1;34m'消したいidをカンマ区切りで入力'\u001b[0m\u001b[1;33m)\u001b[0m\u001b[1;33m\u001b[0m\u001b[1;33m\u001b[0m\u001b[0m\n\u001b[1;32m---> 18\u001b[1;33m             \u001b[0minput_lst\u001b[0m \u001b[1;33m=\u001b[0m \u001b[0minput\u001b[0m\u001b[1;33m(\u001b[0m\u001b[1;33m)\u001b[0m\u001b[1;33m\u001b[0m\u001b[1;33m\u001b[0m\u001b[0m\n\u001b[0m\u001b[0;32m     19\u001b[0m             \u001b[0mclear_output\u001b[0m\u001b[1;33m(\u001b[0m\u001b[1;33m)\u001b[0m\u001b[1;33m\u001b[0m\u001b[1;33m\u001b[0m\u001b[0m\n\u001b[0;32m     20\u001b[0m             \u001b[1;32mif\u001b[0m \u001b[0minput_lst\u001b[0m \u001b[1;33m!=\u001b[0m \u001b[1;34m''\u001b[0m\u001b[1;33m:\u001b[0m\u001b[1;33m\u001b[0m\u001b[1;33m\u001b[0m\u001b[0m\n",
      "\u001b[1;32m~\\Anaconda3\\envs\\kaggle\\lib\\site-packages\\ipykernel\\kernelbase.py\u001b[0m in \u001b[0;36mraw_input\u001b[1;34m(self, prompt)\u001b[0m\n\u001b[0;32m    858\u001b[0m                 \u001b[1;34m\"raw_input was called, but this frontend does not support input requests.\"\u001b[0m\u001b[1;33m\u001b[0m\u001b[1;33m\u001b[0m\u001b[0m\n\u001b[0;32m    859\u001b[0m             )\n\u001b[1;32m--> 860\u001b[1;33m         return self._input_request(str(prompt),\n\u001b[0m\u001b[0;32m    861\u001b[0m             \u001b[0mself\u001b[0m\u001b[1;33m.\u001b[0m\u001b[0m_parent_ident\u001b[0m\u001b[1;33m,\u001b[0m\u001b[1;33m\u001b[0m\u001b[1;33m\u001b[0m\u001b[0m\n\u001b[0;32m    862\u001b[0m             \u001b[0mself\u001b[0m\u001b[1;33m.\u001b[0m\u001b[0m_parent_header\u001b[0m\u001b[1;33m,\u001b[0m\u001b[1;33m\u001b[0m\u001b[1;33m\u001b[0m\u001b[0m\n",
      "\u001b[1;32m~\\Anaconda3\\envs\\kaggle\\lib\\site-packages\\ipykernel\\kernelbase.py\u001b[0m in \u001b[0;36m_input_request\u001b[1;34m(self, prompt, ident, parent, password)\u001b[0m\n\u001b[0;32m    902\u001b[0m             \u001b[1;32mexcept\u001b[0m \u001b[0mKeyboardInterrupt\u001b[0m\u001b[1;33m:\u001b[0m\u001b[1;33m\u001b[0m\u001b[1;33m\u001b[0m\u001b[0m\n\u001b[0;32m    903\u001b[0m                 \u001b[1;31m# re-raise KeyboardInterrupt, to truncate traceback\u001b[0m\u001b[1;33m\u001b[0m\u001b[1;33m\u001b[0m\u001b[1;33m\u001b[0m\u001b[0m\n\u001b[1;32m--> 904\u001b[1;33m                 \u001b[1;32mraise\u001b[0m \u001b[0mKeyboardInterrupt\u001b[0m\u001b[1;33m(\u001b[0m\u001b[1;34m\"Interrupted by user\"\u001b[0m\u001b[1;33m)\u001b[0m \u001b[1;32mfrom\u001b[0m \u001b[1;32mNone\u001b[0m\u001b[1;33m\u001b[0m\u001b[1;33m\u001b[0m\u001b[0m\n\u001b[0m\u001b[0;32m    905\u001b[0m             \u001b[1;32mexcept\u001b[0m \u001b[0mException\u001b[0m \u001b[1;32mas\u001b[0m \u001b[0me\u001b[0m\u001b[1;33m:\u001b[0m\u001b[1;33m\u001b[0m\u001b[1;33m\u001b[0m\u001b[0m\n\u001b[0;32m    906\u001b[0m                 \u001b[0mself\u001b[0m\u001b[1;33m.\u001b[0m\u001b[0mlog\u001b[0m\u001b[1;33m.\u001b[0m\u001b[0mwarning\u001b[0m\u001b[1;33m(\u001b[0m\u001b[1;34m\"Invalid Message:\"\u001b[0m\u001b[1;33m,\u001b[0m \u001b[0mexc_info\u001b[0m\u001b[1;33m=\u001b[0m\u001b[1;32mTrue\u001b[0m\u001b[1;33m)\u001b[0m\u001b[1;33m\u001b[0m\u001b[1;33m\u001b[0m\u001b[0m\n",
      "\u001b[1;31mKeyboardInterrupt\u001b[0m: Interrupted by user"
     ]
    }
   ],
   "source": [
    "for sub_page in sub_page_list:\n",
    "    li_tags = find_li(sub_page)\n",
    "    candidates = []\n",
    "    for li_tag in li_tags:\n",
    "        if li_tag.has_attr('class') and li_tag['class'][0][:8] == 'toclevel':\n",
    "            pass\n",
    "        else:\n",
    "            if li_tag.find('li') == None:\n",
    "                text = li_tag.getText()\n",
    "            else:\n",
    "                text = li_tag.getText().split('\\n')[0]\n",
    "            candidates.append(text)\n",
    "    id_lst = []\n",
    "    for i, candidate in enumerate(candidates):\n",
    "        print(i, candidate)\n",
    "        if i%10 == 9 or i == len(candidates)-1:\n",
    "            print('消したいidをカンマ区切りで入力')\n",
    "            input_lst = input()\n",
    "            clear_output()\n",
    "            if input_lst != '':\n",
    "                id_lst += list(map(lambda x: int(x), input_lst.split(',')))\n",
    "    check_lst = []\n",
    "    for i in id_lst[::-1]:\n",
    "        check_lst.append(candidates.pop(i))\n",
    "    for item in check_lst:\n",
    "        print(item)\n",
    "    print('入れ直したいリストをカンマ区切りで入力')\n",
    "    input_lst = input()\n",
    "    if input_lst != '':\n",
    "        candidates += input_lst.split(',')\n",
    "    clear_output()\n",
    "    job_lst += candidates"
   ]
  },
  {
   "cell_type": "code",
   "execution_count": null,
   "metadata": {},
   "outputs": [],
   "source": []
  }
 ],
 "metadata": {
  "kernelspec": {
   "display_name": "Python 3",
   "language": "python",
   "name": "python3"
  },
  "language_info": {
   "codemirror_mode": {
    "name": "ipython",
    "version": 3
   },
   "file_extension": ".py",
   "mimetype": "text/x-python",
   "name": "python",
   "nbconvert_exporter": "python",
   "pygments_lexer": "ipython3",
   "version": "3.9.2"
  }
 },
 "nbformat": 4,
 "nbformat_minor": 4
}
