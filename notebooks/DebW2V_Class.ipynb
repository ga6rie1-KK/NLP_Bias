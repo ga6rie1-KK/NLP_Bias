{
 "cells": [
  {
   "cell_type": "code",
   "execution_count": 1,
   "id": "01f8e93f",
   "metadata": {
    "tags": []
   },
   "outputs": [
    {
     "name": "stderr",
     "output_type": "stream",
     "text": [
      "C:\\Users\\gabriel\\anaconda3\\envs\\torch\\lib\\site-packages\\gensim\\similarities\\__init__.py:15: UserWarning: The gensim.similarities.levenshtein submodule is disabled, because the optional Levenshtein package <https://pypi.org/project/python-Levenshtein/> is unavailable. Install Levenhstein (e.g. `pip install python-Levenshtein`) to suppress this warning.\n",
      "  warnings.warn(msg)\n"
     ]
    },
    {
     "name": "stdout",
     "output_type": "stream",
     "text": [
      "device: cuda\n"
     ]
    }
   ],
   "source": [
    "import torch\n",
    "import torch.nn as nn\n",
    "import torch.nn.functional as F\n",
    "from torch.utils.data import Dataset, DataLoader\n",
    "from torchtext import data\n",
    "from torchtext.datasets import AG_NEWS\n",
    "import os\n",
    "import gensim\n",
    "import numpy as np\n",
    "import matplotlib.pyplot as plt\n",
    "\n",
    "device = torch.device('cuda') if torch.cuda.is_available() else torch.device('cpu')\n",
    "print(\"device:\", device)\n",
    "\n",
    "# PyTorchのデータセットはデフォルトでは.dataに保存される\n",
    "if not os.path.isdir('.data'):\n",
    "    os.mkdir('.data')"
   ]
  },
  {
   "cell_type": "code",
   "execution_count": 2,
   "id": "24bacf0f-e3a4-45f9-830e-91212386e6de",
   "metadata": {},
   "outputs": [],
   "source": [
    "train_set, test_set = AG_NEWS()\n",
    "X_train = []\n",
    "y_train = []\n",
    "X_test = []\n",
    "y_test = []\n",
    "max_text_size = 0\n",
    "for (label, text) in train_set:\n",
    "    X_train.append(text)\n",
    "    y_train.append(label)\n",
    "    text_size = len(text.split())\n",
    "    if  text_size > max_text_size:\n",
    "        max_text_size = text_size\n",
    "for (label, text) in test_set:\n",
    "    X_test.append(text)\n",
    "    y_test.append(label)\n",
    "    text_size = len(text.split())\n",
    "    if text_size > max_text_size:\n",
    "        max_text_size = text_size\n",
    "num_class = len(set(y_train + y_test)) #1,2,3,4"
   ]
  },
  {
   "cell_type": "code",
   "execution_count": 3,
   "id": "c128334a-451a-457c-8888-cf0aafbd32a0",
   "metadata": {},
   "outputs": [],
   "source": [
    "w2v_undebiased = gensim.models.KeyedVectors.load_word2vec_format('./GoogleNews-vectors-negative300.bin', binary=True)\n",
    "w2v_debiased = gensim.models.KeyedVectors.load_word2vec_format('./GoogleNews-vectors-negative300-hard-debiased.bin', binary=True)\n",
    "w2v_dim = 300"
   ]
  },
  {
   "cell_type": "code",
   "execution_count": 4,
   "id": "d6fff585-9a38-4916-a85d-157cf6722d19",
   "metadata": {},
   "outputs": [],
   "source": [
    "def trans_text2vec(text, max_text_size, w2v_dim, w2v_model):\n",
    "    x = torch.zeros(max_text_size, w2v_dim)\n",
    "    for i, word in enumerate(text.split()):\n",
    "        if word[-1] in [',', '.']:\n",
    "            word = word[:-1]\n",
    "        if word in w2v_model.key_to_index:\n",
    "            x[i] += w2v_model[word]\n",
    "    return x\n",
    "\n",
    "class MyDataset(Dataset):\n",
    "    def __init__(self, X, y, max_text_size, w2v_dim, w2v_model):\n",
    "        self.X = X\n",
    "        self.y = y\n",
    "        self.num_data = len(X)\n",
    "        self.max_text_size = max_text_size\n",
    "        self.w2v_dim = w2v_dim\n",
    "        self.w2v_model = w2v_model\n",
    "\n",
    "    def __len__(self):\n",
    "        return self.num_data\n",
    "\n",
    "    def __getitem__(self, i):\n",
    "        x = trans_text2vec(self.X[i],\n",
    "                           self.max_text_size,\n",
    "                           self.w2v_dim,\n",
    "                           self.w2v_model)\n",
    "        y = self.y[i]\n",
    "        return x, y"
   ]
  },
  {
   "cell_type": "code",
   "execution_count": 5,
   "id": "088221e5-b4ae-4e8c-a9f9-7c293a24495a",
   "metadata": {},
   "outputs": [],
   "source": [
    "train_set = MyDataset(X_train, y_train, max_text_size, w2v_dim, w2v_undebiased)\n",
    "test_set = MyDataset(X_test, y_test, max_text_size, w2v_dim, w2v_undebiased)"
   ]
  },
  {
   "cell_type": "code",
   "execution_count": 6,
   "id": "caaf128b",
   "metadata": {},
   "outputs": [],
   "source": [
    "batch_size = 1000\n",
    "train_loader = DataLoader(train_set, batch_size=batch_size, shuffle=True)\n",
    "test_loader = DataLoader(test_set, batch_size=len(test_set))"
   ]
  },
  {
   "cell_type": "code",
   "execution_count": 7,
   "id": "521cddf0",
   "metadata": {},
   "outputs": [],
   "source": [
    "class LSTMClassifier(nn.Module):\n",
    "    def __init__(self, input_dim, hidden_dim, num_class):\n",
    "        super(LSTMClassifier, self).__init__()\n",
    "        self.lstm = nn.LSTM(input_dim, hidden_dim)\n",
    "        self.ln = nn.Linear(hidden_dim, num_class)\n",
    "    \n",
    "    def forward(self, x):\n",
    "        x, _ = self.lstm(x)\n",
    "        x = self.ln(x[:, -1])\n",
    "        return x"
   ]
  },
  {
   "cell_type": "code",
   "execution_count": 8,
   "id": "751a9638",
   "metadata": {},
   "outputs": [],
   "source": [
    "model = LSTMClassifier(w2v_dim, 100, num_class).to(device)\n",
    "loss_fn = nn.CrossEntropyLoss()\n",
    "optimizer = torch.optim.SGD(model.parameters(), lr=0.01)"
   ]
  },
  {
   "cell_type": "code",
   "execution_count": 10,
   "id": "c551cbf0",
   "metadata": {
    "tags": []
   },
   "outputs": [
    {
     "name": "stdout",
     "output_type": "stream",
     "text": [
      "Epoch 1\n",
      "training\n",
      "train loss:1.3866034746170044\n",
      "evaluating\n",
      "test loss:1.386493444442749, acc:0.2499999850988388\n",
      "\n",
      "\n",
      "Epoch 2\n",
      "training\n",
      "train loss:1.3864336013793945\n",
      "evaluating\n",
      "test loss:1.3863849639892578, acc:0.2499999850988388\n",
      "\n",
      "\n",
      "Epoch 3\n",
      "training\n",
      "train loss:1.3863575458526611\n",
      "evaluating\n",
      "test loss:1.3863346576690674, acc:0.2499999850988388\n",
      "\n",
      "\n",
      "Epoch 4\n",
      "training\n",
      "train loss:1.3863236904144287\n",
      "evaluating\n"
     ]
    },
    {
     "ename": "RuntimeError",
     "evalue": "CUDA out of memory. Tried to allocate 1.51 GiB (GPU 0; 10.00 GiB total capacity; 8.02 GiB already allocated; 0 bytes free; 8.03 GiB reserved in total by PyTorch)",
     "output_type": "error",
     "traceback": [
      "\u001b[1;31m---------------------------------------------------------------------------\u001b[0m",
      "\u001b[1;31mRuntimeError\u001b[0m                              Traceback (most recent call last)",
      "\u001b[1;32m<ipython-input-10-9a370f86962a>\u001b[0m in \u001b[0;36m<module>\u001b[1;34m\u001b[0m\n\u001b[0;32m     25\u001b[0m         \u001b[0mX\u001b[0m \u001b[1;33m=\u001b[0m \u001b[0mX\u001b[0m\u001b[1;33m.\u001b[0m\u001b[0mto\u001b[0m\u001b[1;33m(\u001b[0m\u001b[0mdevice\u001b[0m\u001b[1;33m)\u001b[0m\u001b[1;33m\u001b[0m\u001b[1;33m\u001b[0m\u001b[0m\n\u001b[0;32m     26\u001b[0m         \u001b[0my\u001b[0m \u001b[1;33m=\u001b[0m \u001b[1;33m(\u001b[0m\u001b[0my\u001b[0m\u001b[1;33m-\u001b[0m\u001b[1;36m1\u001b[0m\u001b[1;33m)\u001b[0m\u001b[1;33m.\u001b[0m\u001b[0mto\u001b[0m\u001b[1;33m(\u001b[0m\u001b[0mdevice\u001b[0m\u001b[1;33m)\u001b[0m\u001b[1;33m\u001b[0m\u001b[1;33m\u001b[0m\u001b[0m\n\u001b[1;32m---> 27\u001b[1;33m         \u001b[0mpred\u001b[0m \u001b[1;33m=\u001b[0m \u001b[0mmodel\u001b[0m\u001b[1;33m(\u001b[0m\u001b[0mX\u001b[0m\u001b[1;33m)\u001b[0m\u001b[1;33m\u001b[0m\u001b[1;33m\u001b[0m\u001b[0m\n\u001b[0m\u001b[0;32m     28\u001b[0m         \u001b[0mloss\u001b[0m \u001b[1;33m=\u001b[0m \u001b[0mloss_fn\u001b[0m\u001b[1;33m(\u001b[0m\u001b[0mpred\u001b[0m\u001b[1;33m,\u001b[0m \u001b[0my\u001b[0m\u001b[1;33m)\u001b[0m\u001b[1;33m\u001b[0m\u001b[1;33m\u001b[0m\u001b[0m\n\u001b[0;32m     29\u001b[0m         \u001b[0macc\u001b[0m \u001b[1;33m=\u001b[0m \u001b[1;33m(\u001b[0m\u001b[0mtorch\u001b[0m\u001b[1;33m.\u001b[0m\u001b[0mmax\u001b[0m\u001b[1;33m(\u001b[0m\u001b[0mpred\u001b[0m\u001b[1;33m,\u001b[0m \u001b[0mdim\u001b[0m\u001b[1;33m=\u001b[0m\u001b[1;36m1\u001b[0m\u001b[1;33m)\u001b[0m\u001b[1;33m.\u001b[0m\u001b[0mindices\u001b[0m \u001b[1;33m==\u001b[0m \u001b[0my\u001b[0m\u001b[1;33m)\u001b[0m\u001b[1;33m.\u001b[0m\u001b[0msum\u001b[0m\u001b[1;33m(\u001b[0m\u001b[1;33m)\u001b[0m \u001b[1;33m/\u001b[0m \u001b[0mlen\u001b[0m\u001b[1;33m(\u001b[0m\u001b[0mtest_set\u001b[0m\u001b[1;33m)\u001b[0m\u001b[1;33m\u001b[0m\u001b[1;33m\u001b[0m\u001b[0m\n",
      "\u001b[1;32m~\\anaconda3\\envs\\torch\\lib\\site-packages\\torch\\nn\\modules\\module.py\u001b[0m in \u001b[0;36m_call_impl\u001b[1;34m(self, *input, **kwargs)\u001b[0m\n\u001b[0;32m    887\u001b[0m             \u001b[0mresult\u001b[0m \u001b[1;33m=\u001b[0m \u001b[0mself\u001b[0m\u001b[1;33m.\u001b[0m\u001b[0m_slow_forward\u001b[0m\u001b[1;33m(\u001b[0m\u001b[1;33m*\u001b[0m\u001b[0minput\u001b[0m\u001b[1;33m,\u001b[0m \u001b[1;33m**\u001b[0m\u001b[0mkwargs\u001b[0m\u001b[1;33m)\u001b[0m\u001b[1;33m\u001b[0m\u001b[1;33m\u001b[0m\u001b[0m\n\u001b[0;32m    888\u001b[0m         \u001b[1;32melse\u001b[0m\u001b[1;33m:\u001b[0m\u001b[1;33m\u001b[0m\u001b[1;33m\u001b[0m\u001b[0m\n\u001b[1;32m--> 889\u001b[1;33m             \u001b[0mresult\u001b[0m \u001b[1;33m=\u001b[0m \u001b[0mself\u001b[0m\u001b[1;33m.\u001b[0m\u001b[0mforward\u001b[0m\u001b[1;33m(\u001b[0m\u001b[1;33m*\u001b[0m\u001b[0minput\u001b[0m\u001b[1;33m,\u001b[0m \u001b[1;33m**\u001b[0m\u001b[0mkwargs\u001b[0m\u001b[1;33m)\u001b[0m\u001b[1;33m\u001b[0m\u001b[1;33m\u001b[0m\u001b[0m\n\u001b[0m\u001b[0;32m    890\u001b[0m         for hook in itertools.chain(\n\u001b[0;32m    891\u001b[0m                 \u001b[0m_global_forward_hooks\u001b[0m\u001b[1;33m.\u001b[0m\u001b[0mvalues\u001b[0m\u001b[1;33m(\u001b[0m\u001b[1;33m)\u001b[0m\u001b[1;33m,\u001b[0m\u001b[1;33m\u001b[0m\u001b[1;33m\u001b[0m\u001b[0m\n",
      "\u001b[1;32m<ipython-input-7-ef35ade65e6f>\u001b[0m in \u001b[0;36mforward\u001b[1;34m(self, x)\u001b[0m\n\u001b[0;32m      6\u001b[0m \u001b[1;33m\u001b[0m\u001b[0m\n\u001b[0;32m      7\u001b[0m     \u001b[1;32mdef\u001b[0m \u001b[0mforward\u001b[0m\u001b[1;33m(\u001b[0m\u001b[0mself\u001b[0m\u001b[1;33m,\u001b[0m \u001b[0mx\u001b[0m\u001b[1;33m)\u001b[0m\u001b[1;33m:\u001b[0m\u001b[1;33m\u001b[0m\u001b[1;33m\u001b[0m\u001b[0m\n\u001b[1;32m----> 8\u001b[1;33m         \u001b[0mx\u001b[0m\u001b[1;33m,\u001b[0m \u001b[0m_\u001b[0m \u001b[1;33m=\u001b[0m \u001b[0mself\u001b[0m\u001b[1;33m.\u001b[0m\u001b[0mlstm\u001b[0m\u001b[1;33m(\u001b[0m\u001b[0mx\u001b[0m\u001b[1;33m)\u001b[0m\u001b[1;33m\u001b[0m\u001b[1;33m\u001b[0m\u001b[0m\n\u001b[0m\u001b[0;32m      9\u001b[0m         \u001b[0mx\u001b[0m \u001b[1;33m=\u001b[0m \u001b[0mself\u001b[0m\u001b[1;33m.\u001b[0m\u001b[0mln\u001b[0m\u001b[1;33m(\u001b[0m\u001b[0mx\u001b[0m\u001b[1;33m[\u001b[0m\u001b[1;33m:\u001b[0m\u001b[1;33m,\u001b[0m \u001b[1;33m-\u001b[0m\u001b[1;36m1\u001b[0m\u001b[1;33m]\u001b[0m\u001b[1;33m)\u001b[0m\u001b[1;33m\u001b[0m\u001b[1;33m\u001b[0m\u001b[0m\n\u001b[0;32m     10\u001b[0m         \u001b[1;32mreturn\u001b[0m \u001b[0mx\u001b[0m\u001b[1;33m\u001b[0m\u001b[1;33m\u001b[0m\u001b[0m\n",
      "\u001b[1;32m~\\anaconda3\\envs\\torch\\lib\\site-packages\\torch\\nn\\modules\\module.py\u001b[0m in \u001b[0;36m_call_impl\u001b[1;34m(self, *input, **kwargs)\u001b[0m\n\u001b[0;32m    887\u001b[0m             \u001b[0mresult\u001b[0m \u001b[1;33m=\u001b[0m \u001b[0mself\u001b[0m\u001b[1;33m.\u001b[0m\u001b[0m_slow_forward\u001b[0m\u001b[1;33m(\u001b[0m\u001b[1;33m*\u001b[0m\u001b[0minput\u001b[0m\u001b[1;33m,\u001b[0m \u001b[1;33m**\u001b[0m\u001b[0mkwargs\u001b[0m\u001b[1;33m)\u001b[0m\u001b[1;33m\u001b[0m\u001b[1;33m\u001b[0m\u001b[0m\n\u001b[0;32m    888\u001b[0m         \u001b[1;32melse\u001b[0m\u001b[1;33m:\u001b[0m\u001b[1;33m\u001b[0m\u001b[1;33m\u001b[0m\u001b[0m\n\u001b[1;32m--> 889\u001b[1;33m             \u001b[0mresult\u001b[0m \u001b[1;33m=\u001b[0m \u001b[0mself\u001b[0m\u001b[1;33m.\u001b[0m\u001b[0mforward\u001b[0m\u001b[1;33m(\u001b[0m\u001b[1;33m*\u001b[0m\u001b[0minput\u001b[0m\u001b[1;33m,\u001b[0m \u001b[1;33m**\u001b[0m\u001b[0mkwargs\u001b[0m\u001b[1;33m)\u001b[0m\u001b[1;33m\u001b[0m\u001b[1;33m\u001b[0m\u001b[0m\n\u001b[0m\u001b[0;32m    890\u001b[0m         for hook in itertools.chain(\n\u001b[0;32m    891\u001b[0m                 \u001b[0m_global_forward_hooks\u001b[0m\u001b[1;33m.\u001b[0m\u001b[0mvalues\u001b[0m\u001b[1;33m(\u001b[0m\u001b[1;33m)\u001b[0m\u001b[1;33m,\u001b[0m\u001b[1;33m\u001b[0m\u001b[1;33m\u001b[0m\u001b[0m\n",
      "\u001b[1;32m~\\anaconda3\\envs\\torch\\lib\\site-packages\\torch\\nn\\modules\\rnn.py\u001b[0m in \u001b[0;36mforward\u001b[1;34m(self, input, hx)\u001b[0m\n\u001b[0;32m    659\u001b[0m         \u001b[0mself\u001b[0m\u001b[1;33m.\u001b[0m\u001b[0mcheck_forward_args\u001b[0m\u001b[1;33m(\u001b[0m\u001b[0minput\u001b[0m\u001b[1;33m,\u001b[0m \u001b[0mhx\u001b[0m\u001b[1;33m,\u001b[0m \u001b[0mbatch_sizes\u001b[0m\u001b[1;33m)\u001b[0m\u001b[1;33m\u001b[0m\u001b[1;33m\u001b[0m\u001b[0m\n\u001b[0;32m    660\u001b[0m         \u001b[1;32mif\u001b[0m \u001b[0mbatch_sizes\u001b[0m \u001b[1;32mis\u001b[0m \u001b[1;32mNone\u001b[0m\u001b[1;33m:\u001b[0m\u001b[1;33m\u001b[0m\u001b[1;33m\u001b[0m\u001b[0m\n\u001b[1;32m--> 661\u001b[1;33m             result = _VF.lstm(input, hx, self._flat_weights, self.bias, self.num_layers,\n\u001b[0m\u001b[0;32m    662\u001b[0m                               self.dropout, self.training, self.bidirectional, self.batch_first)\n\u001b[0;32m    663\u001b[0m         \u001b[1;32melse\u001b[0m\u001b[1;33m:\u001b[0m\u001b[1;33m\u001b[0m\u001b[1;33m\u001b[0m\u001b[0m\n",
      "\u001b[1;31mRuntimeError\u001b[0m: CUDA out of memory. Tried to allocate 1.51 GiB (GPU 0; 10.00 GiB total capacity; 8.02 GiB already allocated; 0 bytes free; 8.03 GiB reserved in total by PyTorch)"
     ]
    }
   ],
   "source": [
    "train_loss_log = []\n",
    "eval_loss_log = []\n",
    "eval_acc_log = []\n",
    "for epoch in range(10):\n",
    "    print('Epoch {}'.format(epoch+1))\n",
    "    print('training')\n",
    "    model.train()\n",
    "    train_loss = 0\n",
    "    for X, y in train_loader:\n",
    "        X = X.to(device)\n",
    "        y = (y-1).to(device)\n",
    "        pred = model(X)\n",
    "        loss = loss_fn(pred, y)\n",
    "        optimizer.zero_grad()\n",
    "        loss.backward()\n",
    "        optimizer.step()\n",
    "        train_loss += loss\n",
    "    train_loss /= len(train_loader)\n",
    "    train_loss_log.append(train_loss)\n",
    "    print('train loss:{:.4}'.format(train_loss))\n",
    "\n",
    "    print('evaluating')\n",
    "    model.eval()\n",
    "    with torch.no_grad():\n",
    "        for X, y in test_loader:\n",
    "            X = X.to(device)\n",
    "            y = (y-1).to(device) \n",
    "            pred = model(X)\n",
    "            loss = loss_fn(pred, y)\n",
    "            acc = (torch.max(pred, dim=1).indices == y).sum() / len(test_set)\n",
    "    eval_loss_log.append(loss)\n",
    "    eval_acc_log.append(acc)\n",
    "    print('test loss:{:.4}, acc:{:.4}'.format(loss, acc))\n",
    "    print('\\n')"
   ]
  },
  {
   "cell_type": "code",
   "execution_count": null,
   "id": "b5e9ab11",
   "metadata": {},
   "outputs": [],
   "source": [
    "plt.plot(range(1, 101), train_loss_log)\n",
    "plt.plot(range(1, 101), eval_loss_log)\n",
    "plt.show()"
   ]
  },
  {
   "cell_type": "code",
   "execution_count": null,
   "id": "e65eaf51",
   "metadata": {},
   "outputs": [],
   "source": [
    "plt.plot(range(1, 101), eval_acc_log)\n",
    "plt.show()"
   ]
  },
  {
   "cell_type": "markdown",
   "id": "dca846d9-cb43-4585-b203-86ea8c7fa84c",
   "metadata": {},
   "source": [
    "# 検定する"
   ]
  },
  {
   "cell_type": "code",
   "execution_count": 12,
   "id": "e5ea1908",
   "metadata": {},
   "outputs": [],
   "source": [
    "data = '''\n",
    "Experience1\n",
    "max acc: Epoch 100, 0.9064473509788513\n",
    "max acc: Epoch 99, 0.8986841440200806\n",
    "Experience2\n",
    "max acc: Epoch 96, 0.9056578278541565\n",
    "max acc: Epoch 95, 0.8989472985267639\n",
    "Experience3\n",
    "max acc: Epoch 93, 0.9065788984298706\n",
    "max acc: Epoch 96, 0.8967105150222778\n",
    "Experience4\n",
    "max acc: Epoch 93, 0.9072368144989014\n",
    "max acc: Epoch 100, 0.8882894515991211\n",
    "Experience5\n",
    "max acc: Epoch 99, 0.9056578278541565\n",
    "max acc: Epoch 99, 0.8994736671447754\n",
    "Experience6\n",
    "max acc: Epoch 98, 0.9067105054855347\n",
    "max acc: Epoch 94, 0.899078905582428\n",
    "Experience7\n",
    "max acc: Epoch 96, 0.9063157439231873\n",
    "max acc: Epoch 100, 0.8997368216514587\n",
    "Experience8\n",
    "max acc: Epoch 100, 0.906842052936554\n",
    "max acc: Epoch 98, 0.8980262875556946\n",
    "Experience9\n",
    "max acc: Epoch 100, 0.9067105054855347\n",
    "max acc: Epoch 99, 0.8997368216514587\n",
    "Experience10\n",
    "max acc: Epoch 88, 0.906184196472168\n",
    "max acc: Epoch 88, 0.8985525965690613\n",
    "'''"
   ]
  },
  {
   "cell_type": "code",
   "execution_count": 13,
   "id": "38570b70-9e2d-4d6a-853b-92e9a08abaea",
   "metadata": {},
   "outputs": [
    {
     "data": {
      "text/plain": [
       "['0.9064473509788513',\n",
       " '0.8986841440200806',\n",
       " '0.9056578278541565',\n",
       " '0.8989472985267639',\n",
       " '0.9065788984298706',\n",
       " '0.8967105150222778',\n",
       " '0.9072368144989014',\n",
       " '0.8882894515991211',\n",
       " '0.9056578278541565',\n",
       " '0.8994736671447754',\n",
       " '0.9067105054855347',\n",
       " '0.899078905582428',\n",
       " '0.9063157439231873',\n",
       " '0.8997368216514587',\n",
       " '0.906842052936554',\n",
       " '0.8980262875556946',\n",
       " '0.9067105054855347',\n",
       " '0.8997368216514587',\n",
       " '0.906184196472168',\n",
       " '0.8985525965690613']"
      ]
     },
     "execution_count": 13,
     "metadata": {},
     "output_type": "execute_result"
    }
   ],
   "source": [
    "data = [i for i in data.split() if i[0]=='0']\n",
    "data"
   ]
  },
  {
   "cell_type": "code",
   "execution_count": 14,
   "id": "cbc0f56e-006b-4ead-b71c-bb86b1473e2e",
   "metadata": {},
   "outputs": [],
   "source": [
    "udb = []\n",
    "db = []\n",
    "for i, num in enumerate(data):\n",
    "    if i%2 == 0:\n",
    "        udb.append(float(num))\n",
    "    else:\n",
    "        db.append(float(num))"
   ]
  },
  {
   "cell_type": "code",
   "execution_count": 18,
   "id": "130eec63-cd8f-4bc7-8865-fc9709994a34",
   "metadata": {},
   "outputs": [],
   "source": [
    "import matplotlib.pyplot as plt\n",
    "from scipy import stats"
   ]
  },
  {
   "cell_type": "markdown",
   "id": "476c039c-f048-4744-81eb-ad1347ec9bf6",
   "metadata": {},
   "source": [
    "## 正規性の検定"
   ]
  },
  {
   "cell_type": "code",
   "execution_count": 20,
   "id": "f3699172-dd2e-4608-b268-89409b148301",
   "metadata": {},
   "outputs": [
    {
     "data": {
      "image/png": "[encoded data removed]",
      "text/plain": [
       "<Figure size 432x288 with 1 Axes>"
      ]
     },
     "metadata": {
      "needs_background": "light"
     },
     "output_type": "display_data"
    }
   ],
   "source": [
    "# Q-Qプロット\n",
    "stats.probplot(udb, dist=\"norm\", plot=plt)\n",
    "plt.show()"
   ]
  },
  {
   "cell_type": "code",
   "execution_count": 21,
   "id": "f9ac7bdc-7c41-425a-97cc-d8c3d79f694e",
   "metadata": {},
   "outputs": [
    {
     "data": {
      "image/png": "[encoded data removed]",
      "text/plain": [
       "<Figure size 432x288 with 1 Axes>"
      ]
     },
     "metadata": {
      "needs_background": "light"
     },
     "output_type": "display_data"
    }
   ],
   "source": [
    "stats.probplot(db, dist=\"norm\", plot=plt)\n",
    "plt.show()"
   ]
  },
  {
   "cell_type": "code",
   "execution_count": 26,
   "id": "134a6d99-3067-48b0-9c81-598a7c631277",
   "metadata": {},
   "outputs": [
    {
     "name": "stdout",
     "output_type": "stream",
     "text": [
      "0.5884786248207092\n",
      "0.0000478329129692\n"
     ]
    }
   ],
   "source": [
    "# シャピロ-ウィルク検定\n",
    "W, p = stats.shapiro(udb)\n",
    "print(\"{:.16f}\".format(p))\n",
    "W, p = stats.shapiro(db)\n",
    "print(\"{:.16f}\".format(p))"
   ]
  },
  {
   "cell_type": "markdown",
   "id": "82377b03-2783-4c4f-b87e-c0afb0bf638e",
   "metadata": {},
   "source": [
    "## 分散の検定"
   ]
  },
  {
   "cell_type": "code",
   "execution_count": null,
   "id": "f04e165b-e94a-4f8c-9cb7-d88425b05c7c",
   "metadata": {},
   "outputs": [],
   "source": [
    "import numpy as np\n",
    "\n",
    "var_udb = np.var(udb)\n",
    "var_db = np.var(db)\n",
    "\n",
    "F = var_versicolor/var_setosa # 2.1443447981340951\n",
    "# 両側5%検定\n",
    "F_ = stats.f.ppf(0.975, len(udb)-1, len(db)-1) # alpha/2 #1.7621885352431106\n",
    "\n",
    "if F > F_:\n",
    "    print('「等分散である」を棄却')\n",
    "else:\n",
    "    print('「等分散である」を受容')\n",
    "\n",
    "# 「等分散である」を棄却"
   ]
  }
 ],
 "metadata": {
  "kernelspec": {
   "display_name": "Python 3",
   "language": "python",
   "name": "python3"
  },
  "language_info": {
   "codemirror_mode": {
    "name": "ipython",
    "version": 3
   },
   "file_extension": ".py",
   "mimetype": "text/x-python",
   "name": "python",
   "nbconvert_exporter": "python",
   "pygments_lexer": "ipython3",
   "version": "3.8.10"
  }
 },
 "nbformat": 4,
 "nbformat_minor": 5
}
